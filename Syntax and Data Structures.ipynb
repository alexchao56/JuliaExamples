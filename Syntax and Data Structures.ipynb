{
 "cells": [
  {
   "cell_type": "markdown",
   "metadata": {},
   "source": [
    "#Data Structures in Julia"
   ]
  },
  {
   "cell_type": "code",
   "execution_count": null,
   "metadata": {
    "collapsed": false
   },
   "outputs": [],
   "source": []
  },
  {
   "cell_type": "markdown",
   "metadata": {},
   "source": [
    "## Using the data structures package\n",
    "https://github.com/JuliaLang/DataStructures.jl"
   ]
  },
  {
   "cell_type": "code",
   "execution_count": 54,
   "metadata": {
    "collapsed": false
   },
   "outputs": [],
   "source": [
    "using DataStructures"
   ]
  },
  {
   "cell_type": "markdown",
   "metadata": {},
   "source": [
    "### Deque - Double sided queues\n",
    "The Deque type implements a double-ended queue using a list of blocks. This data structure supports constant-time insertion/removal of elements at both ends of a sequence."
   ]
  },
  {
   "cell_type": "code",
   "execution_count": 55,
   "metadata": {
    "collapsed": false
   },
   "outputs": [
    {
     "ename": "LoadError",
     "evalue": "Attempted to front at an empty deque.\nwhile loading In[55], in expression starting on line 8",
     "output_type": "error",
     "traceback": [
      "Attempted to front at an empty deque.\nwhile loading In[55], in expression starting on line 8",
      "",
      " in front at /Users/pbio/.julia/v0.3/DataStructures/src/deque.jl:81"
     ]
    }
   ],
   "source": [
    "a = Deque{Int}()\n",
    "isempty(a)          # test whether the dequeue is empty\n",
    "length(a)           # get the number of elements\n",
    "push!(a, 10)        # add an element to the back\n",
    "pop!(a)             # remove an element from the back\n",
    "unshift!(a, 20)     # add an element to the front\n",
    "shift!(a)           # remove an element from the front\n",
    "front(a)            # get the element at the front\n",
    "back(a)             # get the element at the back"
   ]
  },
  {
   "cell_type": "code",
   "execution_count": 57,
   "metadata": {
    "collapsed": false
   },
   "outputs": [
    {
     "data": {
      "text/plain": [
       "Deque [[]]"
      ]
     },
     "execution_count": 57,
     "metadata": {},
     "output_type": "execute_result"
    }
   ],
   "source": [
    "a = Deque{Int}()"
   ]
  },
  {
   "cell_type": "code",
   "execution_count": 59,
   "metadata": {
    "collapsed": false
   },
   "outputs": [
    {
     "data": {
      "text/plain": [
       "true"
      ]
     },
     "execution_count": 59,
     "metadata": {},
     "output_type": "execute_result"
    }
   ],
   "source": [
    "isempty(a)"
   ]
  },
  {
   "cell_type": "code",
   "execution_count": 63,
   "metadata": {
    "collapsed": false
   },
   "outputs": [
    {
     "data": {
      "text/plain": [
       "Deque [[10,10]]"
      ]
     },
     "execution_count": 63,
     "metadata": {},
     "output_type": "execute_result"
    }
   ],
   "source": [
    "push!(a,10)"
   ]
  },
  {
   "cell_type": "code",
   "execution_count": 64,
   "metadata": {
    "collapsed": false
   },
   "outputs": [
    {
     "data": {
      "text/plain": [
       "10"
      ]
     },
     "execution_count": 64,
     "metadata": {},
     "output_type": "execute_result"
    }
   ],
   "source": [
    "pop!(a)"
   ]
  },
  {
   "cell_type": "code",
   "execution_count": 65,
   "metadata": {
    "collapsed": false
   },
   "outputs": [
    {
     "data": {
      "text/plain": [
       "Deque [[20,10]]"
      ]
     },
     "execution_count": 65,
     "metadata": {},
     "output_type": "execute_result"
    }
   ],
   "source": [
    "unshift!(a, 20)"
   ]
  },
  {
   "cell_type": "code",
   "execution_count": 66,
   "metadata": {
    "collapsed": false
   },
   "outputs": [
    {
     "data": {
      "text/plain": [
       "20"
      ]
     },
     "execution_count": 66,
     "metadata": {},
     "output_type": "execute_result"
    }
   ],
   "source": [
    "shift!(a)"
   ]
  },
  {
   "cell_type": "code",
   "execution_count": 67,
   "metadata": {
    "collapsed": false
   },
   "outputs": [
    {
     "data": {
      "text/plain": [
       "10"
      ]
     },
     "execution_count": 67,
     "metadata": {},
     "output_type": "execute_result"
    }
   ],
   "source": [
    "front(a)"
   ]
  },
  {
   "cell_type": "code",
   "execution_count": 68,
   "metadata": {
    "collapsed": false
   },
   "outputs": [
    {
     "data": {
      "text/plain": [
       "10"
      ]
     },
     "execution_count": 68,
     "metadata": {},
     "output_type": "execute_result"
    }
   ],
   "source": [
    "back(a)"
   ]
  },
  {
   "cell_type": "markdown",
   "metadata": {},
   "source": [
    "### Stacks and Queues\n",
    "The Stack and Queue types are a light-weight wrapper of a deque type, which respectively provide interfaces for FILO and FIFO access."
   ]
  },
  {
   "cell_type": "code",
   "execution_count": 70,
   "metadata": {
    "collapsed": false
   },
   "outputs": [
    {
     "ename": "LoadError",
     "evalue": "`convert` has no method matching convert(::Type{Int64}, ::Array{Float64,1})\nwhile loading In[70], in expression starting on line 2",
     "output_type": "error",
     "traceback": [
      "`convert` has no method matching convert(::Type{Int64}, ::Array{Float64,1})\nwhile loading In[70], in expression starting on line 2",
      "",
      " in push! at /Users/pbio/.julia/v0.3/DataStructures/src/deque.jl:197",
      " in push! at /Users/pbio/.julia/v0.3/DataStructures/src/stack.jl:16"
     ]
    }
   ],
   "source": [
    "s = Stack(Int)\n",
    "push!(s, x)\n",
    "x = top(s)\n",
    "x = pop!(s)"
   ]
  },
  {
   "cell_type": "code",
   "execution_count": 71,
   "metadata": {
    "collapsed": false
   },
   "outputs": [
    {
     "data": {
      "text/plain": [
       "Stack{Deque{Int64}}(Deque [[]])"
      ]
     },
     "execution_count": 71,
     "metadata": {},
     "output_type": "execute_result"
    }
   ],
   "source": [
    "s = Stack(Int)"
   ]
  },
  {
   "cell_type": "code",
   "execution_count": 73,
   "metadata": {
    "collapsed": false
   },
   "outputs": [
    {
     "data": {
      "text/plain": [
       "Stack{Deque{Int64}}(Deque [[1]])"
      ]
     },
     "execution_count": 73,
     "metadata": {},
     "output_type": "execute_result"
    }
   ],
   "source": [
    "push!(s, 1)"
   ]
  },
  {
   "cell_type": "code",
   "execution_count": 75,
   "metadata": {
    "collapsed": false
   },
   "outputs": [
    {
     "data": {
      "text/plain": [
       "1"
      ]
     },
     "execution_count": 75,
     "metadata": {},
     "output_type": "execute_result"
    }
   ],
   "source": [
    "x = top(s)"
   ]
  },
  {
   "cell_type": "code",
   "execution_count": 80,
   "metadata": {
    "collapsed": false
   },
   "outputs": [
    {
     "name": "stdout",
     "output_type": "stream",
     "text": [
      "0\n"
     ]
    }
   ],
   "source": [
    "println(length(s))"
   ]
  },
  {
   "cell_type": "code",
   "execution_count": 83,
   "metadata": {
    "collapsed": false
   },
   "outputs": [
    {
     "data": {
      "text/plain": [
       "Queue{Deque{Int64}}(Deque [[1]])"
      ]
     },
     "execution_count": 83,
     "metadata": {},
     "output_type": "execute_result"
    }
   ],
   "source": [
    "q = Queue(Int)\n",
    "enqueue!(q, 1)"
   ]
  },
  {
   "cell_type": "code",
   "execution_count": 84,
   "metadata": {
    "collapsed": false
   },
   "outputs": [
    {
     "name": "stdout",
     "output_type": "stream",
     "text": [
      "true\n"
     ]
    }
   ],
   "source": [
    "x = front(q)\n",
    "y = back(q)\n",
    "println(x == y)"
   ]
  },
  {
   "cell_type": "code",
   "execution_count": 85,
   "metadata": {
    "collapsed": false
   },
   "outputs": [
    {
     "data": {
      "text/plain": [
       "1"
      ]
     },
     "execution_count": 85,
     "metadata": {},
     "output_type": "execute_result"
    }
   ],
   "source": [
    "x = dequeue!(q)"
   ]
  },
  {
   "cell_type": "markdown",
   "metadata": {},
   "source": [
    "###Disjoint Sets"
   ]
  },
  {
   "cell_type": "code",
   "execution_count": 86,
   "metadata": {
    "collapsed": false
   },
   "outputs": [
    {
     "data": {
      "text/plain": [
       "11"
      ]
     },
     "execution_count": 86,
     "metadata": {},
     "output_type": "execute_result"
    }
   ],
   "source": [
    "a = IntDisjointSets(10)      # creates a forest comprised of 10 singletons\n",
    "union!(a, 3, 5)             # merges the sets that contain 3 and 5 into one\n",
    "in_same_set(a, x, y)        # determines whether x and y are in the same set\n",
    "elem = push!(a)             # adds a single element in a new set; returns the new element\n",
    "                            # (this operation is often called MakeSet)"
   ]
  },
  {
   "cell_type": "code",
   "execution_count": null,
   "metadata": {
    "collapsed": false
   },
   "outputs": [],
   "source": [
    "a = DisjointSets{String}([\"a\", \"b\", \"c\", \"d\"])\n",
    "union!(a, \"a\", \"b\")\n",
    "in_same_set(a, \"c\", \"d\")\n",
    "push!(a, \"f\")"
   ]
  },
  {
   "cell_type": "markdown",
   "metadata": {},
   "source": [
    "###Heaps\n",
    "Heaps are data structures that efficiently maintain the minimum (or maximum) for a set of data that may dynamically change."
   ]
  },
  {
   "cell_type": "code",
   "execution_count": 97,
   "metadata": {
    "collapsed": false
   },
   "outputs": [
    {
     "data": {
      "text/plain": [
       "BinaryHeap{Int64,GreaterThan}(GreaterThan(),[])"
      ]
     },
     "execution_count": 97,
     "metadata": {},
     "output_type": "execute_result"
    }
   ],
   "source": [
    "h = binary_maxheap(Int)"
   ]
  },
  {
   "cell_type": "code",
   "execution_count": 98,
   "metadata": {
    "collapsed": false
   },
   "outputs": [
    {
     "data": {
      "text/plain": [
       "BinaryHeap{Int64,GreaterThan}(GreaterThan(),[512,512,235,234,234,4,25,12,12,5,5,2])"
      ]
     },
     "execution_count": 98,
     "metadata": {},
     "output_type": "execute_result"
    }
   ],
   "source": [
    "h = binary_maxheap([12,234,2,512,5,235,25,12,512,5,234,4])"
   ]
  },
  {
   "cell_type": "code",
   "execution_count": 100,
   "metadata": {
    "collapsed": false
   },
   "outputs": [
    {
     "data": {
      "text/plain": [
       "1651"
      ]
     },
     "execution_count": 100,
     "metadata": {},
     "output_type": "execute_result"
    }
   ],
   "source": [
    "# Let h be a heap, i be a handle, and v be a value.\n",
    "\n",
    "length(h)         # returns the number of elements\n",
    "\n",
    "isempty(h)        # returns whether the heap is empty\n",
    "\n",
    "push!(h, 1651)       # add a value to the heap\n",
    "\n",
    "top(h)            # return the top value of a heap\n",
    "\n",
    "pop!(h)           # removes the top value, and returns it"
   ]
  },
  {
   "cell_type": "code",
   "execution_count": 102,
   "metadata": {
    "collapsed": false
   },
   "outputs": [
    {
     "data": {
      "text/plain": [
       "MutableBinaryHeap(2414, 2345, 61, 123, 14, 25, 17, 5, 7)"
      ]
     },
     "execution_count": 102,
     "metadata": {},
     "output_type": "execute_result"
    }
   ],
   "source": [
    "h = mutable_binary_maxheap([2414,14,61,7,2345,25,17,5,123])"
   ]
  },
  {
   "cell_type": "code",
   "execution_count": 105,
   "metadata": {
    "collapsed": true
   },
   "outputs": [],
   "source": [
    "update!(h, 2, 12)"
   ]
  },
  {
   "cell_type": "markdown",
   "metadata": {},
   "source": [
    "`nlargest(n, a)` is equivalent to `sort(a, lt = >)[1:min(n, end)]`, and `nsmallest(n, a)` is equivalent to `sort(a, lt = <)[1:min(n, end)]`."
   ]
  },
  {
   "cell_type": "code",
   "execution_count": 108,
   "metadata": {
    "collapsed": false
   },
   "outputs": [
    {
     "data": {
      "text/plain": [
       "nlargest (generic function with 1 method)"
      ]
     },
     "execution_count": 108,
     "metadata": {},
     "output_type": "execute_result"
    }
   ],
   "source": [
    "function nlargest(n, a::Array{Int})\n",
    "    return sort(a, lt = >)[1:min(n, end)]\n",
    "end"
   ]
  },
  {
   "cell_type": "code",
   "execution_count": 110,
   "metadata": {
    "collapsed": false
   },
   "outputs": [
    {
     "data": {
      "text/plain": [
       "nsmallest (generic function with 1 method)"
      ]
     },
     "execution_count": 110,
     "metadata": {},
     "output_type": "execute_result"
    }
   ],
   "source": [
    "function nsmallest(n, a::Array{Int})\n",
    "    return sort(a, lt= <)[1:min(n, end)]\n",
    "end"
   ]
  },
  {
   "cell_type": "code",
   "execution_count": 114,
   "metadata": {
    "collapsed": false
   },
   "outputs": [
    {
     "data": {
      "text/plain": [
       "3-element Array{Int64,1}:\n",
       " 5\n",
       " 4\n",
       " 3"
      ]
     },
     "execution_count": 114,
     "metadata": {},
     "output_type": "execute_result"
    }
   ],
   "source": [
    "nlargest(3, [1,2,3,4,5])"
   ]
  },
  {
   "cell_type": "code",
   "execution_count": 115,
   "metadata": {
    "collapsed": false
   },
   "outputs": [
    {
     "data": {
      "text/plain": [
       "3-element Array{Int64,1}:\n",
       " 1\n",
       " 2\n",
       " 3"
      ]
     },
     "execution_count": 115,
     "metadata": {},
     "output_type": "execute_result"
    }
   ],
   "source": [
    "nsmallest(3, [5,4,3,2,1])"
   ]
  },
  {
   "cell_type": "markdown",
   "metadata": {},
   "source": [
    "###OrderedDicts and OrderedSets\n",
    "OrderedDicts are simply dictionaries whose entries have a particular order. For OrderedDicts (and OrderedSets), order refers to insertion order, which allows deterministic iteration over the dictionary or set:"
   ]
  },
  {
   "cell_type": "code",
   "execution_count": 118,
   "metadata": {
    "collapsed": false
   },
   "outputs": [
    {
     "data": {
      "text/plain": [
       "1x5 Array{(Char,Int64),2}:\n",
       " ('a',1)  ('b',2)  ('c',3)  ('d',4)  ('e',5)"
      ]
     },
     "execution_count": 118,
     "metadata": {},
     "output_type": "execute_result"
    }
   ],
   "source": [
    "d = OrderedDict{Char,Int}()\n",
    "for c in 'a':'e'\n",
    "    d[c] = c-'a'+1\n",
    "end\n",
    "collect(d)' # => [('a',1),('b',2),('c',3),('d',4),('e',5)]"
   ]
  },
  {
   "cell_type": "code",
   "execution_count": 119,
   "metadata": {
    "collapsed": false
   },
   "outputs": [
    {
     "data": {
      "text/plain": [
       "5-element Array{Any,1}:\n",
       "       π = 3.1415926535897...\n",
       "       e = 2.7182818284590...\n",
       "       γ = 0.5772156649015...\n",
       " catalan = 0.9159655941772...\n",
       "       φ = 1.6180339887498..."
      ]
     },
     "execution_count": 119,
     "metadata": {},
     "output_type": "execute_result"
    }
   ],
   "source": [
    "s = OrderedSet(π,e,γ,catalan,φ)\n",
    "collect(s) # => [π = 3.1415926535897...,\n",
    "           #     e = 2.7182818284590...,\n",
    "           #     γ = 0.5772156649015...,\n",
    "                 #     catalan = 0.9159655941772...,\n",
    "                 #     φ = 1.6180339887498...]"
   ]
  },
  {
   "cell_type": "markdown",
   "metadata": {},
   "source": [
    "###DefaultDict and DefaultOrderedDict\n",
    "A DefaultDict allows specification of a default value to return when a requested key is not in a dictionary.\n",
    "\n",
    "While the implementation is slightly different, a DefaultDict can be thought to provide a normal Dict with a default value. A DefaultOrderedDict does the same for an OrderedDict."
   ]
  },
  {
   "cell_type": "code",
   "execution_count": 122,
   "metadata": {
    "collapsed": false
   },
   "outputs": [
    {
     "data": {
      "text/plain": [
       "DefaultDict{String,DefaultDict{K,V,F},Function} with 0 entries"
      ]
     },
     "execution_count": 122,
     "metadata": {},
     "output_type": "execute_result"
    }
   ],
   "source": [
    "dd = DefaultDict(1)               # create an (Any=>Any) DefaultDict with a default value of 1\n",
    "dd = DefaultDict(String, Int, 0)  # create a (String=>Int) DefaultDict with a default value of 0\n",
    "\n",
    "d = ['a'=>1, 'b'=>2]\n",
    "dd = DefaultDict(0, d)            # provide a default value to an existing dictionary\n",
    "dd['c'] == 0                      # true\n",
    "#d['c'] == 0                      # false\n",
    "\n",
    "dd = DefaultOrderedDict(time)     # call time() to provide the default value for an OrderedDict\n",
    "dd = DefaultDict(Dict)            # Create a dictionary of dictionaries\n",
    "                                  # Dict() is called to provide the default value\n",
    "dd = DefaultDict(()->myfunc())    # call function myfunc to provide the default value\n",
    "\n",
    "# create a Dictionary of type String=>DefaultDict{String, Int}, where the default of the\n",
    "# inner set of DefaultDicts is zero\n",
    "dd = DefaultDict(String, DefaultDict, ()->DefaultDict(String,Int,0))"
   ]
  },
  {
   "cell_type": "code",
   "execution_count": 124,
   "metadata": {
    "collapsed": false
   },
   "outputs": [
    {
     "data": {
      "text/plain": [
       "3"
      ]
     },
     "execution_count": 124,
     "metadata": {},
     "output_type": "execute_result"
    }
   ],
   "source": [
    "d['c'] = 3"
   ]
  },
  {
   "cell_type": "code",
   "execution_count": 125,
   "metadata": {
    "collapsed": false
   },
   "outputs": [
    {
     "data": {
      "text/plain": [
       "Dict{Char,Int64} with 3 entries:\n",
       "  'b' => 2\n",
       "  'c' => 3\n",
       "  'a' => 1"
      ]
     },
     "execution_count": 125,
     "metadata": {},
     "output_type": "execute_result"
    }
   ],
   "source": [
    "d"
   ]
  },
  {
   "cell_type": "markdown",
   "metadata": {},
   "source": [
    "###Trie\n",
    "An implementation of the Trie data structure. This is an associative structure, with String keys:"
   ]
  },
  {
   "cell_type": "code",
   "execution_count": 126,
   "metadata": {
    "collapsed": false
   },
   "outputs": [
    {
     "data": {
      "text/plain": [
       "2-element Array{String,1}:\n",
       " \"Rob\"  \n",
       " \"Roger\""
      ]
     },
     "execution_count": 126,
     "metadata": {},
     "output_type": "execute_result"
    }
   ],
   "source": [
    "t=Trie{Int}()\n",
    "t[\"Rob\"]=42\n",
    "t[\"Roger\"]=24\n",
    "haskey(t,\"Rob\") #true\n",
    "get(t,\"Rob\",nothing) #42\n",
    "keys(t) # \"Rob\", \"Roger\""
   ]
  },
  {
   "cell_type": "code",
   "execution_count": 132,
   "metadata": {
    "collapsed": false
   },
   "outputs": [
    {
     "data": {
      "text/plain": [
       "seen_prefix (generic function with 1 method)"
      ]
     },
     "execution_count": 132,
     "metadata": {},
     "output_type": "execute_result"
    }
   ],
   "source": [
    "#to test whether a trie contains any prefix of a given string, use:\n",
    "seen_prefix(t::Trie, str) = any(v -> v.is_key, path(t, str))"
   ]
  },
  {
   "cell_type": "code",
   "execution_count": 131,
   "metadata": {
    "collapsed": false
   },
   "outputs": [
    {
     "data": {
      "text/plain": [
       "true"
      ]
     },
     "execution_count": 131,
     "metadata": {},
     "output_type": "execute_result"
    }
   ],
   "source": [
    "seen_prefix(t, \"Rob\")"
   ]
  },
  {
   "cell_type": "markdown",
   "metadata": {},
   "source": [
    "###Linked List"
   ]
  },
  {
   "cell_type": "code",
   "execution_count": 134,
   "metadata": {
    "collapsed": false
   },
   "outputs": [
    {
     "data": {
      "text/plain": [
       "nil()"
      ]
     },
     "execution_count": 134,
     "metadata": {},
     "output_type": "execute_result"
    }
   ],
   "source": [
    "l1 = nil()"
   ]
  },
  {
   "cell_type": "code",
   "execution_count": 135,
   "metadata": {
    "collapsed": false
   },
   "outputs": [
    {
     "data": {
      "text/plain": [
       "list(1)"
      ]
     },
     "execution_count": 135,
     "metadata": {},
     "output_type": "execute_result"
    }
   ],
   "source": [
    "l2 = cons(1, l1)"
   ]
  },
  {
   "cell_type": "code",
   "execution_count": 137,
   "metadata": {
    "collapsed": false
   },
   "outputs": [
    {
     "data": {
      "text/plain": [
       "list(2, 3)"
      ]
     },
     "execution_count": 137,
     "metadata": {},
     "output_type": "execute_result"
    }
   ],
   "source": [
    "l3 = list(2,3)"
   ]
  },
  {
   "cell_type": "code",
   "execution_count": 138,
   "metadata": {
    "collapsed": false
   },
   "outputs": [
    {
     "data": {
      "text/plain": [
       "list(1, 2, 3)"
      ]
     },
     "execution_count": 138,
     "metadata": {},
     "output_type": "execute_result"
    }
   ],
   "source": [
    "l4 = cat(l1, l2, l3)"
   ]
  },
  {
   "cell_type": "code",
   "execution_count": 139,
   "metadata": {
    "collapsed": false
   },
   "outputs": [
    {
     "data": {
      "text/plain": [
       "list(2, 4, 6)"
      ]
     },
     "execution_count": 139,
     "metadata": {},
     "output_type": "execute_result"
    }
   ],
   "source": [
    "l5 = map((x) -> x*2, l4)"
   ]
  },
  {
   "cell_type": "code",
   "execution_count": 144,
   "metadata": {
    "collapsed": false
   },
   "outputs": [
    {
     "name": "stdout",
     "output_type": "stream",
     "text": [
      "2\n",
      "4\n",
      "6\n"
     ]
    }
   ],
   "source": [
    "for i in l5; println(i); end"
   ]
  },
  {
   "cell_type": "markdown",
   "metadata": {},
   "source": [
    "#Buffon's Needle"
   ]
  },
  {
   "cell_type": "code",
   "execution_count": 3,
   "metadata": {
    "collapsed": false
   },
   "outputs": [
    {
     "data": {
      "text/plain": [
       "buffon (generic function with 1 method)"
      ]
     },
     "execution_count": 3,
     "metadata": {},
     "output_type": "execute_result"
    }
   ],
   "source": [
    "function buffon(m)\n",
    "    hit = 0\n",
    "    for i = 1:m\n",
    "        mp = rand()\n",
    "        phi = (rand() * pi) - pi / 2\n",
    "        xrechts = mp + cos(phi) / 2\n",
    "        xlinks = mp - cos(phi) / 2\n",
    "        if xrechts >= 1 || xlinks <= 0\n",
    "            hit += 1\n",
    "        end\n",
    "    end\n",
    "    miss = m - hit\n",
    "    piapprox = m / hit * 2\n",
    "end"
   ]
  },
  {
   "cell_type": "code",
   "execution_count": 34,
   "metadata": {
    "collapsed": false
   },
   "outputs": [
    {
     "data": {
      "text/plain": [
       "\"Time elapsed: 4.659189982 seconds\""
      ]
     },
     "execution_count": 34,
     "metadata": {},
     "output_type": "execute_result"
    }
   ],
   "source": [
    "\"Time elapsed: \" * string(@elapsed a = buffon(100000000)) * \" seconds\""
   ]
  },
  {
   "cell_type": "code",
   "execution_count": 35,
   "metadata": {
    "collapsed": false
   },
   "outputs": [
    {
     "data": {
      "text/plain": [
       "\"Estimation for pi: 3.1416930423578924\""
      ]
     },
     "execution_count": 35,
     "metadata": {},
     "output_type": "execute_result"
    }
   ],
   "source": [
    "\"Estimation for pi: \" * string(a)"
   ]
  },
  {
   "cell_type": "markdown",
   "metadata": {},
   "source": [
    "##Buffon's Needle in Parallel"
   ]
  },
  {
   "cell_type": "code",
   "execution_count": 7,
   "metadata": {
    "collapsed": false
   },
   "outputs": [
    {
     "data": {
      "text/plain": [
       "buffon_parallel (generic function with 1 method)"
      ]
     },
     "execution_count": 7,
     "metadata": {},
     "output_type": "execute_result"
    }
   ],
   "source": [
    "function buffon_parallel(m)\n",
    "    hit = @parallel (+) for i = 1:m\n",
    "        mp = rand()\n",
    "        phi = (rand() * pi) - pi / 2\n",
    "        xrechts = mp + cos(phi) / 2\n",
    "        xlinks = mp - cos(phi) / 2\n",
    "        (xrechts >= 1 || xlinks <= 0) ? 1 : 0\n",
    "    end\n",
    "    miss = m - hit\n",
    "    piapprox = m / hit * 2\n",
    "end"
   ]
  },
  {
   "cell_type": "code",
   "execution_count": 31,
   "metadata": {
    "collapsed": false
   },
   "outputs": [
    {
     "data": {
      "text/plain": [
       "\"Time elapsed: 4.610179443 seconds\""
      ]
     },
     "execution_count": 31,
     "metadata": {},
     "output_type": "execute_result"
    }
   ],
   "source": [
    "\"Time elapsed: \" * string(@elapsed b = buffon_parallel(100000000)) * \" seconds\""
   ]
  },
  {
   "cell_type": "code",
   "execution_count": 36,
   "metadata": {
    "collapsed": false
   },
   "outputs": [
    {
     "data": {
      "text/plain": [
       "\"Estimation for pi: 3.141909906393235\""
      ]
     },
     "execution_count": 36,
     "metadata": {},
     "output_type": "execute_result"
    }
   ],
   "source": [
    "\"Estimation for pi: \" * string(b)"
   ]
  },
  {
   "cell_type": "code",
   "execution_count": 37,
   "metadata": {
    "collapsed": false
   },
   "outputs": [
    {
     "data": {
      "text/plain": [
       "randmatstat (generic function with 1 method)"
      ]
     },
     "execution_count": 37,
     "metadata": {},
     "output_type": "execute_result"
    }
   ],
   "source": [
    "function randmatstat(t; n=10)\n",
    " v = zeros(t)\n",
    " w = zeros(t)\n",
    " for i = 1:t\n",
    " a = randn(n,n)\n",
    " b = randn(n,n)\n",
    " c = randn(n,n)\n",
    " d = randn(n,n)\n",
    " P = [a b c d]\n",
    " Q = [a b; c d]\n",
    " v[i] = trace((P'*P)^4)\n",
    " w[i] = trace((Q'*Q)^4)\n",
    " end\n",
    " std(v)/mean(v), std(w)/mean(w)\n",
    "end"
   ]
  },
  {
   "cell_type": "code",
   "execution_count": 38,
   "metadata": {
    "collapsed": false
   },
   "outputs": [
    {
     "data": {
      "text/plain": [
       "(0.35356334122197053,0.4004604306751935)"
      ]
     },
     "execution_count": 38,
     "metadata": {},
     "output_type": "execute_result"
    }
   ],
   "source": [
    "randmatstat(100)"
   ]
  },
  {
   "cell_type": "markdown",
   "metadata": {},
   "source": [
    "##Low Level Code"
   ]
  },
  {
   "cell_type": "code",
   "execution_count": 39,
   "metadata": {
    "collapsed": false
   },
   "outputs": [
    {
     "data": {
      "text/plain": [
       "qsort! (generic function with 1 method)"
      ]
     },
     "execution_count": 39,
     "metadata": {},
     "output_type": "execute_result"
    }
   ],
   "source": [
    "function qsort!(a,lo,hi)\n",
    " i, j = lo, hi\n",
    " while i < hi\n",
    " pivot = a[(lo+hi)>>>1]\n",
    " while i <= j\n",
    " while a[i] < pivot; i = i+1; end\n",
    " while a[j] > pivot; j = j-1; end\n",
    " if i <= j\n",
    " a[i], a[j] = a[j], a[i]\n",
    " i, j = i+1, j-1\n",
    " end\n",
    " end\n",
    " if lo < j; qsort!(a,lo,j); end\n",
    " lo, j = i, hi\n",
    " end\n",
    " return a\n",
    "end"
   ]
  },
  {
   "cell_type": "code",
   "execution_count": 45,
   "metadata": {
    "collapsed": false
   },
   "outputs": [
    {
     "ename": "LoadError",
     "evalue": "interrupt\nwhile loading In[45], in expression starting on line 1",
     "output_type": "error",
     "traceback": [
      "interrupt\nwhile loading In[45], in expression starting on line 1",
      "",
      " in randmtzig_randn at random.jl:748",
      " in randn! at random.jl:788",
      " in randn at random.jl:791"
     ]
    }
   ],
   "source": [
    "c = randn(1000*1000, 100);"
   ]
  },
  {
   "cell_type": "markdown",
   "metadata": {},
   "source": [
    "##Using Python libraries within Julia"
   ]
  },
  {
   "cell_type": "code",
   "execution_count": 51,
   "metadata": {
    "collapsed": false
   },
   "outputs": [
    {
     "data": {
      "text/plain": [
       "0.0"
      ]
     },
     "execution_count": 51,
     "metadata": {},
     "output_type": "execute_result"
    }
   ],
   "source": [
    "using PyCall\n",
    "@pyimport math\n",
    "math.sin(math.pi / 4) - sin(pi / 4)"
   ]
  },
  {
   "cell_type": "code",
   "execution_count": 52,
   "metadata": {
    "collapsed": false
   },
   "outputs": [],
   "source": [
    "@pyimport pylab\n",
    "x = linspace(0,2*pi,1000); y = sin(3*x + 4*cos(2*x));\n",
    "pylab.plot(x, y; color=\"red\", linewidth=2.0, linestyle=\"--\")\n",
    "pylab.show()"
   ]
  },
  {
   "cell_type": "code",
   "execution_count": null,
   "metadata": {
    "collapsed": true
   },
   "outputs": [],
   "source": []
  },
  {
   "cell_type": "markdown",
   "metadata": {},
   "source": [
    "#DataFrames in Julia"
   ]
  },
  {
   "cell_type": "code",
   "execution_count": 1,
   "metadata": {
    "collapsed": false
   },
   "outputs": [],
   "source": [
    "using DataFrames"
   ]
  },
  {
   "cell_type": "code",
   "execution_count": 2,
   "metadata": {
    "collapsed": false
   },
   "outputs": [
    {
     "data": {
      "text/html": [
       "<table class=\"data-frame\"><tr><th></th><th>A</th><th>B</th></tr><tr><th>1</th><td>1</td><td>M</td></tr><tr><th>2</th><td>2</td><td>F</td></tr><tr><th>3</th><td>3</td><td>F</td></tr><tr><th>4</th><td>4</td><td>M</td></tr><tr><th>5</th><td>5</td><td>F</td></tr><tr><th>6</th><td>6</td><td>M</td></tr><tr><th>7</th><td>7</td><td>M</td></tr><tr><th>8</th><td>8</td><td>F</td></tr></table>"
      ],
      "text/plain": [
       "8x2 DataFrame\n",
       "| Row | A | B   |\n",
       "|-----|---|-----|\n",
       "| 1   | 1 | \"M\" |\n",
       "| 2   | 2 | \"F\" |\n",
       "| 3   | 3 | \"F\" |\n",
       "| 4   | 4 | \"M\" |\n",
       "| 5   | 5 | \"F\" |\n",
       "| 6   | 6 | \"M\" |\n",
       "| 7   | 7 | \"M\" |\n",
       "| 8   | 8 | \"F\" |"
      ]
     },
     "execution_count": 2,
     "metadata": {},
     "output_type": "execute_result"
    }
   ],
   "source": [
    "df = DataFrame()\n",
    "df[:A] = 1:8\n",
    "df[:B] = [\"M\", \"F\", \"F\", \"M\", \"F\", \"M\", \"M\", \"F\"]\n",
    "df"
   ]
  },
  {
   "cell_type": "code",
   "execution_count": 3,
   "metadata": {
    "collapsed": false
   },
   "outputs": [
    {
     "data": {
      "text/html": [
       "<table class=\"data-frame\"><tr><th></th><th>A</th><th>B</th></tr><tr><th>1</th><td>1</td><td>M</td></tr><tr><th>2</th><td>2</td><td>F</td></tr><tr><th>3</th><td>3</td><td>F</td></tr><tr><th>4</th><td>4</td><td>M</td></tr><tr><th>5</th><td>5</td><td>F</td></tr><tr><th>6</th><td>6</td><td>M</td></tr></table>"
      ],
      "text/plain": [
       "6x2 DataFrame\n",
       "| Row | A | B   |\n",
       "|-----|---|-----|\n",
       "| 1   | 1 | \"M\" |\n",
       "| 2   | 2 | \"F\" |\n",
       "| 3   | 3 | \"F\" |\n",
       "| 4   | 4 | \"M\" |\n",
       "| 5   | 5 | \"F\" |\n",
       "| 6   | 6 | \"M\" |"
      ]
     },
     "execution_count": 3,
     "metadata": {},
     "output_type": "execute_result"
    }
   ],
   "source": [
    "head(df)"
   ]
  },
  {
   "cell_type": "code",
   "execution_count": 5,
   "metadata": {
    "collapsed": false
   },
   "outputs": [
    {
     "data": {
      "text/html": [
       "<table class=\"data-frame\"><tr><th></th><th>SepalLength</th><th>SepalWidth</th><th>PetalLength</th><th>PetalWidth</th><th>Species</th></tr><tr><th>1</th><td>5.1</td><td>3.5</td><td>1.4</td><td>0.2</td><td>setosa</td></tr><tr><th>2</th><td>4.9</td><td>3.0</td><td>1.4</td><td>0.2</td><td>setosa</td></tr><tr><th>3</th><td>4.7</td><td>3.2</td><td>1.3</td><td>0.2</td><td>setosa</td></tr><tr><th>4</th><td>4.6</td><td>3.1</td><td>1.5</td><td>0.2</td><td>setosa</td></tr><tr><th>5</th><td>5.0</td><td>3.6</td><td>1.4</td><td>0.2</td><td>setosa</td></tr><tr><th>6</th><td>5.4</td><td>3.9</td><td>1.7</td><td>0.4</td><td>setosa</td></tr></table>"
      ],
      "text/plain": [
       "6x5 DataFrame\n",
       "| Row | SepalLength | SepalWidth | PetalLength | PetalWidth | Species  |\n",
       "|-----|-------------|------------|-------------|------------|----------|\n",
       "| 1   | 5.1         | 3.5        | 1.4         | 0.2        | \"setosa\" |\n",
       "| 2   | 4.9         | 3.0        | 1.4         | 0.2        | \"setosa\" |\n",
       "| 3   | 4.7         | 3.2        | 1.3         | 0.2        | \"setosa\" |\n",
       "| 4   | 4.6         | 3.1        | 1.5         | 0.2        | \"setosa\" |\n",
       "| 5   | 5.0         | 3.6        | 1.4         | 0.2        | \"setosa\" |\n",
       "| 6   | 5.4         | 3.9        | 1.7         | 0.4        | \"setosa\" |"
      ]
     },
     "execution_count": 5,
     "metadata": {},
     "output_type": "execute_result"
    }
   ],
   "source": [
    "using RDatasets\n",
    "iris = dataset(\"datasets\", \"iris\")\n",
    "head(iris)"
   ]
  },
  {
   "cell_type": "code",
   "execution_count": 17,
   "metadata": {
    "collapsed": false
   },
   "outputs": [
    {
     "data": {
      "text/plain": [
       "150-element PooledDataArray{ASCIIString,Uint8,1}:\n",
       " \"setosa\"   \n",
       " \"setosa\"   \n",
       " \"setosa\"   \n",
       " \"setosa\"   \n",
       " \"setosa\"   \n",
       " \"setosa\"   \n",
       " \"setosa\"   \n",
       " \"setosa\"   \n",
       " \"setosa\"   \n",
       " \"setosa\"   \n",
       " \"setosa\"   \n",
       " \"setosa\"   \n",
       " \"setosa\"   \n",
       " ⋮          \n",
       " \"virginica\"\n",
       " \"virginica\"\n",
       " \"virginica\"\n",
       " \"virginica\"\n",
       " \"virginica\"\n",
       " \"virginica\"\n",
       " \"virginica\"\n",
       " \"virginica\"\n",
       " \"virginica\"\n",
       " \"virginica\"\n",
       " \"virginica\"\n",
       " \"virginica\""
      ]
     },
     "execution_count": 17,
     "metadata": {},
     "output_type": "execute_result"
    }
   ],
   "source": [
    "iris.columns[2]"
   ]
  },
  {
   "cell_type": "code",
   "execution_count": null,
   "metadata": {
    "collapsed": true
   },
   "outputs": [],
   "source": [
    "iris[:Species]"
   ]
  },
  {
   "cell_type": "code",
   "execution_count": 21,
   "metadata": {
    "collapsed": false
   },
   "outputs": [
    {
     "data": {
      "text/html": [
       "<table class=\"data-frame\"><tr><th></th><th>A</th><th>B</th></tr><tr><th>1</th><td>1</td><td>2</td></tr><tr><th>2</th><td>2</td><td>4</td></tr><tr><th>3</th><td>3</td><td>6</td></tr><tr><th>4</th><td>4</td><td>8</td></tr><tr><th>5</th><td>5</td><td>10</td></tr><tr><th>6</th><td>6</td><td>12</td></tr><tr><th>7</th><td>7</td><td>14</td></tr><tr><th>8</th><td>8</td><td>16</td></tr><tr><th>9</th><td>9</td><td>18</td></tr><tr><th>10</th><td>10</td><td>20</td></tr></table>"
      ],
      "text/plain": [
       "10x2 DataFrame\n",
       "| Row | A  | B  |\n",
       "|-----|----|----|\n",
       "| 1   | 1  | 2  |\n",
       "| 2   | 2  | 4  |\n",
       "| 3   | 3  | 6  |\n",
       "| 4   | 4  | 8  |\n",
       "| 5   | 5  | 10 |\n",
       "| 6   | 6  | 12 |\n",
       "| 7   | 7  | 14 |\n",
       "| 8   | 8  | 16 |\n",
       "| 9   | 9  | 18 |\n",
       "| 10  | 10 | 20 |"
      ]
     },
     "execution_count": 21,
     "metadata": {},
     "output_type": "execute_result"
    }
   ],
   "source": [
    "df = DataFrame(A = 1:10, B = 2:2:20)"
   ]
  },
  {
   "cell_type": "code",
   "execution_count": 22,
   "metadata": {
    "collapsed": false
   },
   "outputs": [
    {
     "data": {
      "text/html": [
       "<table class=\"data-frame\"><tr><th></th><th>A</th><th>B</th></tr><tr><th>1</th><td>1</td><td>2</td></tr><tr><th>2</th><td>2</td><td>4</td></tr><tr><th>3</th><td>3</td><td>6</td></tr></table>"
      ],
      "text/plain": [
       "3x2 DataFrame\n",
       "| Row | A | B |\n",
       "|-----|---|---|\n",
       "| 1   | 1 | 2 |\n",
       "| 2   | 2 | 4 |\n",
       "| 3   | 3 | 6 |"
      ]
     },
     "execution_count": 22,
     "metadata": {},
     "output_type": "execute_result"
    }
   ],
   "source": [
    "df[1:3, [:A, :B]]"
   ]
  },
  {
   "cell_type": "code",
   "execution_count": 23,
   "metadata": {
    "collapsed": false
   },
   "outputs": [
    {
     "data": {
      "text/html": [
       "<table class=\"data-frame\"><tr><th></th><th>A</th><th>B</th></tr><tr><th>1</th><td>2</td><td>4</td></tr><tr><th>2</th><td>4</td><td>8</td></tr><tr><th>3</th><td>6</td><td>12</td></tr><tr><th>4</th><td>8</td><td>16</td></tr><tr><th>5</th><td>10</td><td>20</td></tr></table>"
      ],
      "text/plain": [
       "5x2 DataFrame\n",
       "| Row | A  | B  |\n",
       "|-----|----|----|\n",
       "| 1   | 2  | 4  |\n",
       "| 2   | 4  | 8  |\n",
       "| 3   | 6  | 12 |\n",
       "| 4   | 8  | 16 |\n",
       "| 5   | 10 | 20 |"
      ]
     },
     "execution_count": 23,
     "metadata": {},
     "output_type": "execute_result"
    }
   ],
   "source": [
    "df[df[:A] % 2 .== 0, :]"
   ]
  },
  {
   "cell_type": "code",
   "execution_count": 24,
   "metadata": {
    "collapsed": false
   },
   "outputs": [
    {
     "data": {
      "text/html": [
       "<table class=\"data-frame\"><tr><th></th><th>A</th><th>B</th></tr><tr><th>1</th><td>1</td><td>2</td></tr><tr><th>2</th><td>2</td><td>4</td></tr><tr><th>3</th><td>3</td><td>6</td></tr><tr><th>4</th><td>4</td><td>8</td></tr><tr><th>5</th><td>5</td><td>10</td></tr><tr><th>6</th><td>6</td><td>12</td></tr><tr><th>7</th><td>7</td><td>14</td></tr><tr><th>8</th><td>8</td><td>16</td></tr><tr><th>9</th><td>9</td><td>18</td></tr><tr><th>10</th><td>10</td><td>20</td></tr></table>"
      ],
      "text/plain": [
       "10x2 DataFrame\n",
       "| Row | A  | B  |\n",
       "|-----|----|----|\n",
       "| 1   | 1  | 2  |\n",
       "| 2   | 2  | 4  |\n",
       "| 3   | 3  | 6  |\n",
       "| 4   | 4  | 8  |\n",
       "| 5   | 5  | 10 |\n",
       "| 6   | 6  | 12 |\n",
       "| 7   | 7  | 14 |\n",
       "| 8   | 8  | 16 |\n",
       "| 9   | 9  | 18 |\n",
       "| 10  | 10 | 20 |"
      ]
     },
     "execution_count": 24,
     "metadata": {},
     "output_type": "execute_result"
    }
   ],
   "source": [
    " df[df[:B] % 2 .== 0, :]"
   ]
  },
  {
   "cell_type": "code",
   "execution_count": 26,
   "metadata": {
    "collapsed": false
   },
   "outputs": [
    {
     "data": {
      "text/html": [
       "<table class=\"data-frame\"><tr><th></th><th>ID</th><th>Job</th></tr><tr><th>1</th><td>1</td><td>Lawyer</td></tr><tr><th>2</th><td>2</td><td>Doctor</td></tr></table>"
      ],
      "text/plain": [
       "2x2 DataFrame\n",
       "| Row | ID | Job      |\n",
       "|-----|----|----------|\n",
       "| 1   | 1  | \"Lawyer\" |\n",
       "| 2   | 2  | \"Doctor\" |"
      ]
     },
     "execution_count": 26,
     "metadata": {},
     "output_type": "execute_result"
    }
   ],
   "source": [
    "names = DataFrame(ID = [1, 2], Name = [\"John Doe\", \"Jane Doe\"])\n",
    "jobs = DataFrame(ID = [1, 2], Job = [\"Lawyer\", \"Doctor\"])"
   ]
  },
  {
   "cell_type": "code",
   "execution_count": 27,
   "metadata": {
    "collapsed": false
   },
   "outputs": [
    {
     "data": {
      "text/html": [
       "<table class=\"data-frame\"><tr><th></th><th>ID</th><th>Name</th><th>Job</th></tr><tr><th>1</th><td>1</td><td>John Doe</td><td>Lawyer</td></tr><tr><th>2</th><td>2</td><td>Jane Doe</td><td>Doctor</td></tr></table>"
      ],
      "text/plain": [
       "2x3 DataFrame\n",
       "| Row | ID | Name       | Job      |\n",
       "|-----|----|------------|----------|\n",
       "| 1   | 1  | \"John Doe\" | \"Lawyer\" |\n",
       "| 2   | 2  | \"Jane Doe\" | \"Doctor\" |"
      ]
     },
     "execution_count": 27,
     "metadata": {},
     "output_type": "execute_result"
    }
   ],
   "source": [
    "full = join(names, jobs, on = :ID)"
   ]
  },
  {
   "cell_type": "code",
   "execution_count": 28,
   "metadata": {
    "collapsed": false
   },
   "outputs": [
    {
     "data": {
      "text/html": [
       "<table class=\"data-frame\"><tr><th></th><th>ID</th><th>Name</th></tr><tr><th>1</th><td>2</td><td>B</td></tr></table>"
      ],
      "text/plain": [
       "1x2 DataFrame\n",
       "| Row | ID | Name |\n",
       "|-----|----|------|\n",
       "| 1   | 2  | \"B\"  |"
      ]
     },
     "execution_count": 28,
     "metadata": {},
     "output_type": "execute_result"
    }
   ],
   "source": [
    "a = DataFrame(ID = [1, 2], Name = [\"A\", \"B\"])\n",
    "b = DataFrame(ID = [1, 3], Job = [\"Doctor\", \"Lawyer\"])\n",
    "join(a, b, on = :ID, kind = :inner)\n",
    "join(a, b, on = :ID, kind = :left)\n",
    "join(a, b, on = :ID, kind = :right)\n",
    "join(a, b, on = :ID, kind = :outer)\n",
    "join(a, b, on = :ID, kind = :semi)\n",
    "join(a, b, on = :ID, kind = :anti)"
   ]
  },
  {
   "cell_type": "markdown",
   "metadata": {},
   "source": [
    "###Splity-Apply-Combine strategy\n",
    " the `by` function, which takes in three arguments: (1) a DataFrame, (2) a column to split the DataFrame on, and (3) a function or expression to apply to each subset of the DataFrame.\n",
    " \n",
    " Kind of like group by"
   ]
  },
  {
   "cell_type": "code",
   "execution_count": 29,
   "metadata": {
    "collapsed": false
   },
   "outputs": [
    {
     "data": {
      "text/html": [
       "<table class=\"data-frame\"><tr><th></th><th>Species</th><th>N</th></tr><tr><th>1</th><td>setosa</td><td>50</td></tr><tr><th>2</th><td>versicolor</td><td>50</td></tr><tr><th>3</th><td>virginica</td><td>50</td></tr></table>"
      ],
      "text/plain": [
       "3x2 DataFrame\n",
       "| Row | Species      | N  |\n",
       "|-----|--------------|----|\n",
       "| 1   | \"setosa\"     | 50 |\n",
       "| 2   | \"versicolor\" | 50 |\n",
       "| 3   | \"virginica\"  | 50 |"
      ]
     },
     "execution_count": 29,
     "metadata": {},
     "output_type": "execute_result"
    }
   ],
   "source": [
    "by(iris, :Species, size)"
   ]
  },
  {
   "cell_type": "code",
   "execution_count": 30,
   "metadata": {
    "collapsed": false
   },
   "outputs": [
    {
     "data": {
      "text/html": [
       "<table class=\"data-frame\"><tr><th></th><th>Species</th><th>x1</th></tr><tr><th>1</th><td>setosa</td><td>1.462</td></tr><tr><th>2</th><td>versicolor</td><td>4.26</td></tr><tr><th>3</th><td>virginica</td><td>5.552</td></tr></table>"
      ],
      "text/plain": [
       "3x2 DataFrame\n",
       "| Row | Species      | x1    |\n",
       "|-----|--------------|-------|\n",
       "| 1   | \"setosa\"     | 1.462 |\n",
       "| 2   | \"versicolor\" | 4.26  |\n",
       "| 3   | \"virginica\"  | 5.552 |"
      ]
     },
     "execution_count": 30,
     "metadata": {},
     "output_type": "execute_result"
    }
   ],
   "source": [
    "by(iris, :Species, df -> mean(df[:PetalLength]))"
   ]
  },
  {
   "cell_type": "code",
   "execution_count": 31,
   "metadata": {
    "collapsed": false
   },
   "outputs": [
    {
     "data": {
      "text/html": [
       "<table class=\"data-frame\"><tr><th></th><th>Species</th><th>N</th></tr><tr><th>1</th><td>setosa</td><td>50</td></tr><tr><th>2</th><td>versicolor</td><td>50</td></tr><tr><th>3</th><td>virginica</td><td>50</td></tr></table>"
      ],
      "text/plain": [
       "3x2 DataFrame\n",
       "| Row | Species      | N  |\n",
       "|-----|--------------|----|\n",
       "| 1   | \"setosa\"     | 50 |\n",
       "| 2   | \"versicolor\" | 50 |\n",
       "| 3   | \"virginica\"  | 50 |"
      ]
     },
     "execution_count": 31,
     "metadata": {},
     "output_type": "execute_result"
    }
   ],
   "source": [
    "by(iris, :Species, df -> DataFrame(N = size(df, 1)))"
   ]
  },
  {
   "cell_type": "markdown",
   "metadata": {},
   "source": [
    "A second approach to the Split-Apply-Combine strategy is implemented in the aggregate function, which also takes three arguments: (1) a DataFrame, (2) a column (or columns) to split the DataFrame on, and a (3) function (or several functions) that are used to compute a summary of each subset of the DataFrame. Each function is applied to each column, that was not used to split the DataFrame, creating new columns of the form $name_$function e.g. SepalLength_mean. "
   ]
  },
  {
   "cell_type": "code",
   "execution_count": 33,
   "metadata": {
    "collapsed": false
   },
   "outputs": [
    {
     "data": {
      "text/html": [
       "<table class=\"data-frame\"><tr><th></th><th>Species</th><th>SepalLength_sum</th><th>SepalWidth_sum</th><th>PetalLength_sum</th><th>PetalWidth_sum</th></tr><tr><th>1</th><td>setosa</td><td>250.29999999999998</td><td>171.39999999999998</td><td>73.1</td><td>12.3</td></tr><tr><th>2</th><td>versicolor</td><td>296.8</td><td>138.5</td><td>213.0</td><td>66.30000000000001</td></tr><tr><th>3</th><td>virginica</td><td>329.4</td><td>148.7</td><td>277.59999999999997</td><td>101.3</td></tr></table>"
      ],
      "text/plain": [
       "3x5 DataFrame\n",
       "| Row | Species      | SepalLength_sum | SepalWidth_sum | PetalLength_sum |\n",
       "|-----|--------------|-----------------|----------------|-----------------|\n",
       "| 1   | \"setosa\"     | 250.3           | 171.4          | 73.1            |\n",
       "| 2   | \"versicolor\" | 296.8           | 138.5          | 213.0           |\n",
       "| 3   | \"virginica\"  | 329.4           | 148.7          | 277.6           |\n",
       "\n",
       "| Row | PetalWidth_sum |\n",
       "|-----|----------------|\n",
       "| 1   | 12.3           |\n",
       "| 2   | 66.3           |\n",
       "| 3   | 101.3          |"
      ]
     },
     "execution_count": 33,
     "metadata": {},
     "output_type": "execute_result"
    }
   ],
   "source": [
    "aggregate(iris, :Species, sum)"
   ]
  },
  {
   "cell_type": "code",
   "execution_count": 34,
   "metadata": {
    "collapsed": false
   },
   "outputs": [
    {
     "data": {
      "text/html": [
       "<table class=\"data-frame\"><tr><th></th><th>Species</th><th>SepalLength_sum</th><th>SepalLength_mean</th><th>SepalWidth_sum</th><th>SepalWidth_mean</th><th>PetalLength_sum</th><th>PetalLength_mean</th><th>PetalWidth_sum</th><th>PetalWidth_mean</th></tr><tr><th>1</th><td>setosa</td><td>250.29999999999998</td><td>5.005999999999999</td><td>171.39999999999998</td><td>3.4279999999999995</td><td>73.1</td><td>1.462</td><td>12.3</td><td>0.24600000000000002</td></tr><tr><th>2</th><td>versicolor</td><td>296.8</td><td>5.936</td><td>138.5</td><td>2.77</td><td>213.0</td><td>4.26</td><td>66.30000000000001</td><td>1.3260000000000003</td></tr><tr><th>3</th><td>virginica</td><td>329.4</td><td>6.587999999999999</td><td>148.7</td><td>2.9739999999999998</td><td>277.59999999999997</td><td>5.552</td><td>101.3</td><td>2.026</td></tr></table>"
      ],
      "text/plain": [
       "3x9 DataFrame\n",
       "| Row | Species      | SepalLength_sum | SepalLength_mean | SepalWidth_sum |\n",
       "|-----|--------------|-----------------|------------------|----------------|\n",
       "| 1   | \"setosa\"     | 250.3           | 5.006            | 171.4          |\n",
       "| 2   | \"versicolor\" | 296.8           | 5.936            | 138.5          |\n",
       "| 3   | \"virginica\"  | 329.4           | 6.588            | 148.7          |\n",
       "\n",
       "| Row | SepalWidth_mean | PetalLength_sum | PetalLength_mean | PetalWidth_sum |\n",
       "|-----|-----------------|-----------------|------------------|----------------|\n",
       "| 1   | 3.428           | 73.1            | 1.462            | 12.3           |\n",
       "| 2   | 2.77            | 213.0           | 4.26             | 66.3           |\n",
       "| 3   | 2.974           | 277.6           | 5.552            | 101.3          |\n",
       "\n",
       "| Row | PetalWidth_mean |\n",
       "|-----|-----------------|\n",
       "| 1   | 0.246           |\n",
       "| 2   | 1.326           |\n",
       "| 3   | 2.026           |"
      ]
     },
     "execution_count": 34,
     "metadata": {},
     "output_type": "execute_result"
    }
   ],
   "source": [
    "aggregate(iris, :Species, [sum, mean])"
   ]
  },
  {
   "cell_type": "markdown",
   "metadata": {},
   "source": [
    "####Stacking"
   ]
  },
  {
   "cell_type": "code",
   "execution_count": 35,
   "metadata": {
    "collapsed": false
   },
   "outputs": [
    {
     "data": {
      "text/html": [
       "<table class=\"data-frame\"><tr><th></th><th>variable</th><th>value</th><th>Species</th><th>id</th></tr><tr><th>1</th><td>SepalLength</td><td>5.1</td><td>setosa</td><td>1</td></tr><tr><th>2</th><td>SepalLength</td><td>4.9</td><td>setosa</td><td>2</td></tr><tr><th>3</th><td>SepalLength</td><td>4.7</td><td>setosa</td><td>3</td></tr><tr><th>4</th><td>SepalLength</td><td>4.6</td><td>setosa</td><td>4</td></tr><tr><th>5</th><td>SepalLength</td><td>5.0</td><td>setosa</td><td>5</td></tr><tr><th>6</th><td>SepalLength</td><td>5.4</td><td>setosa</td><td>6</td></tr><tr><th>7</th><td>SepalLength</td><td>4.6</td><td>setosa</td><td>7</td></tr><tr><th>8</th><td>SepalLength</td><td>5.0</td><td>setosa</td><td>8</td></tr><tr><th>9</th><td>SepalLength</td><td>4.4</td><td>setosa</td><td>9</td></tr><tr><th>10</th><td>SepalLength</td><td>4.9</td><td>setosa</td><td>10</td></tr><tr><th>11</th><td>SepalLength</td><td>5.4</td><td>setosa</td><td>11</td></tr><tr><th>12</th><td>SepalLength</td><td>4.8</td><td>setosa</td><td>12</td></tr><tr><th>13</th><td>SepalLength</td><td>4.8</td><td>setosa</td><td>13</td></tr><tr><th>14</th><td>SepalLength</td><td>4.3</td><td>setosa</td><td>14</td></tr><tr><th>15</th><td>SepalLength</td><td>5.8</td><td>setosa</td><td>15</td></tr><tr><th>16</th><td>SepalLength</td><td>5.7</td><td>setosa</td><td>16</td></tr><tr><th>17</th><td>SepalLength</td><td>5.4</td><td>setosa</td><td>17</td></tr><tr><th>18</th><td>SepalLength</td><td>5.1</td><td>setosa</td><td>18</td></tr><tr><th>19</th><td>SepalLength</td><td>5.7</td><td>setosa</td><td>19</td></tr><tr><th>20</th><td>SepalLength</td><td>5.1</td><td>setosa</td><td>20</td></tr><tr><th>21</th><td>SepalLength</td><td>5.4</td><td>setosa</td><td>21</td></tr><tr><th>22</th><td>SepalLength</td><td>5.1</td><td>setosa</td><td>22</td></tr><tr><th>23</th><td>SepalLength</td><td>4.6</td><td>setosa</td><td>23</td></tr><tr><th>24</th><td>SepalLength</td><td>5.1</td><td>setosa</td><td>24</td></tr><tr><th>25</th><td>SepalLength</td><td>4.8</td><td>setosa</td><td>25</td></tr><tr><th>26</th><td>SepalLength</td><td>5.0</td><td>setosa</td><td>26</td></tr><tr><th>27</th><td>SepalLength</td><td>5.0</td><td>setosa</td><td>27</td></tr><tr><th>28</th><td>SepalLength</td><td>5.2</td><td>setosa</td><td>28</td></tr><tr><th>29</th><td>SepalLength</td><td>5.2</td><td>setosa</td><td>29</td></tr><tr><th>30</th><td>SepalLength</td><td>4.7</td><td>setosa</td><td>30</td></tr><tr><th>&vellip;</th><td>&vellip;</td><td>&vellip;</td><td>&vellip;</td><td>&vellip;</td></tr></table>"
      ],
      "text/plain": [
       "600x4 DataFrame\n",
       "| Row | variable    | value | Species     | id  |\n",
       "|-----|-------------|-------|-------------|-----|\n",
       "| 1   | SepalLength | 5.1   | \"setosa\"    | 1   |\n",
       "| 2   | SepalLength | 4.9   | \"setosa\"    | 2   |\n",
       "| 3   | SepalLength | 4.7   | \"setosa\"    | 3   |\n",
       "| 4   | SepalLength | 4.6   | \"setosa\"    | 4   |\n",
       "| 5   | SepalLength | 5.0   | \"setosa\"    | 5   |\n",
       "| 6   | SepalLength | 5.4   | \"setosa\"    | 6   |\n",
       "| 7   | SepalLength | 4.6   | \"setosa\"    | 7   |\n",
       "| 8   | SepalLength | 5.0   | \"setosa\"    | 8   |\n",
       "| 9   | SepalLength | 4.4   | \"setosa\"    | 9   |\n",
       "| 10  | SepalLength | 4.9   | \"setosa\"    | 10  |\n",
       "| 11  | SepalLength | 5.4   | \"setosa\"    | 11  |\n",
       "⋮\n",
       "| 589 | PetalWidth  | 1.8   | \"virginica\" | 139 |\n",
       "| 590 | PetalWidth  | 2.1   | \"virginica\" | 140 |\n",
       "| 591 | PetalWidth  | 2.4   | \"virginica\" | 141 |\n",
       "| 592 | PetalWidth  | 2.3   | \"virginica\" | 142 |\n",
       "| 593 | PetalWidth  | 1.9   | \"virginica\" | 143 |\n",
       "| 594 | PetalWidth  | 2.3   | \"virginica\" | 144 |\n",
       "| 595 | PetalWidth  | 2.5   | \"virginica\" | 145 |\n",
       "| 596 | PetalWidth  | 2.3   | \"virginica\" | 146 |\n",
       "| 597 | PetalWidth  | 1.9   | \"virginica\" | 147 |\n",
       "| 598 | PetalWidth  | 2.0   | \"virginica\" | 148 |\n",
       "| 599 | PetalWidth  | 2.3   | \"virginica\" | 149 |\n",
       "| 600 | PetalWidth  | 1.8   | \"virginica\" | 150 |"
      ]
     },
     "execution_count": 35,
     "metadata": {},
     "output_type": "execute_result"
    }
   ],
   "source": [
    "iris[:id] = 1:size(iris, 1)  # this makes it easier to unstack\n",
    "d = stack(iris, [1:4])"
   ]
  },
  {
   "cell_type": "code",
   "execution_count": 36,
   "metadata": {
    "collapsed": false
   },
   "outputs": [
    {
     "data": {
      "text/html": [
       "<table class=\"data-frame\"><tr><th></th><th>variable</th><th>value</th><th>Species</th></tr><tr><th>1</th><td>SepalLength</td><td>5.1</td><td>setosa</td></tr><tr><th>2</th><td>SepalLength</td><td>4.9</td><td>setosa</td></tr><tr><th>3</th><td>SepalLength</td><td>4.7</td><td>setosa</td></tr><tr><th>4</th><td>SepalLength</td><td>4.6</td><td>setosa</td></tr><tr><th>5</th><td>SepalLength</td><td>5.0</td><td>setosa</td></tr><tr><th>6</th><td>SepalLength</td><td>5.4</td><td>setosa</td></tr><tr><th>7</th><td>SepalLength</td><td>4.6</td><td>setosa</td></tr><tr><th>8</th><td>SepalLength</td><td>5.0</td><td>setosa</td></tr><tr><th>9</th><td>SepalLength</td><td>4.4</td><td>setosa</td></tr><tr><th>10</th><td>SepalLength</td><td>4.9</td><td>setosa</td></tr><tr><th>11</th><td>SepalLength</td><td>5.4</td><td>setosa</td></tr><tr><th>12</th><td>SepalLength</td><td>4.8</td><td>setosa</td></tr><tr><th>13</th><td>SepalLength</td><td>4.8</td><td>setosa</td></tr><tr><th>14</th><td>SepalLength</td><td>4.3</td><td>setosa</td></tr><tr><th>15</th><td>SepalLength</td><td>5.8</td><td>setosa</td></tr><tr><th>16</th><td>SepalLength</td><td>5.7</td><td>setosa</td></tr><tr><th>17</th><td>SepalLength</td><td>5.4</td><td>setosa</td></tr><tr><th>18</th><td>SepalLength</td><td>5.1</td><td>setosa</td></tr><tr><th>19</th><td>SepalLength</td><td>5.7</td><td>setosa</td></tr><tr><th>20</th><td>SepalLength</td><td>5.1</td><td>setosa</td></tr><tr><th>21</th><td>SepalLength</td><td>5.4</td><td>setosa</td></tr><tr><th>22</th><td>SepalLength</td><td>5.1</td><td>setosa</td></tr><tr><th>23</th><td>SepalLength</td><td>4.6</td><td>setosa</td></tr><tr><th>24</th><td>SepalLength</td><td>5.1</td><td>setosa</td></tr><tr><th>25</th><td>SepalLength</td><td>4.8</td><td>setosa</td></tr><tr><th>26</th><td>SepalLength</td><td>5.0</td><td>setosa</td></tr><tr><th>27</th><td>SepalLength</td><td>5.0</td><td>setosa</td></tr><tr><th>28</th><td>SepalLength</td><td>5.2</td><td>setosa</td></tr><tr><th>29</th><td>SepalLength</td><td>5.2</td><td>setosa</td></tr><tr><th>30</th><td>SepalLength</td><td>4.7</td><td>setosa</td></tr><tr><th>&vellip;</th><td>&vellip;</td><td>&vellip;</td><td>&vellip;</td></tr></table>"
      ],
      "text/plain": [
       "300x3 DataFrame\n",
       "| Row | variable    | value | Species     |\n",
       "|-----|-------------|-------|-------------|\n",
       "| 1   | SepalLength | 5.1   | \"setosa\"    |\n",
       "| 2   | SepalLength | 4.9   | \"setosa\"    |\n",
       "| 3   | SepalLength | 4.7   | \"setosa\"    |\n",
       "| 4   | SepalLength | 4.6   | \"setosa\"    |\n",
       "| 5   | SepalLength | 5.0   | \"setosa\"    |\n",
       "| 6   | SepalLength | 5.4   | \"setosa\"    |\n",
       "| 7   | SepalLength | 4.6   | \"setosa\"    |\n",
       "| 8   | SepalLength | 5.0   | \"setosa\"    |\n",
       "| 9   | SepalLength | 4.4   | \"setosa\"    |\n",
       "| 10  | SepalLength | 4.9   | \"setosa\"    |\n",
       "| 11  | SepalLength | 5.4   | \"setosa\"    |\n",
       "⋮\n",
       "| 289 | SepalWidth  | 3.0   | \"virginica\" |\n",
       "| 290 | SepalWidth  | 3.1   | \"virginica\" |\n",
       "| 291 | SepalWidth  | 3.1   | \"virginica\" |\n",
       "| 292 | SepalWidth  | 3.1   | \"virginica\" |\n",
       "| 293 | SepalWidth  | 2.7   | \"virginica\" |\n",
       "| 294 | SepalWidth  | 3.2   | \"virginica\" |\n",
       "| 295 | SepalWidth  | 3.3   | \"virginica\" |\n",
       "| 296 | SepalWidth  | 3.0   | \"virginica\" |\n",
       "| 297 | SepalWidth  | 2.5   | \"virginica\" |\n",
       "| 298 | SepalWidth  | 3.0   | \"virginica\" |\n",
       "| 299 | SepalWidth  | 3.4   | \"virginica\" |\n",
       "| 300 | SepalWidth  | 3.0   | \"virginica\" |"
      ]
     },
     "execution_count": 36,
     "metadata": {},
     "output_type": "execute_result"
    }
   ],
   "source": [
    "d = stack(iris, [:SepalLength, :SepalWidth], :Species)"
   ]
  },
  {
   "cell_type": "code",
   "execution_count": 37,
   "metadata": {
    "collapsed": false
   },
   "outputs": [
    {
     "data": {
      "text/html": [
       "<table class=\"data-frame\"><tr><th></th><th>variable</th><th>value</th><th>Species</th></tr><tr><th>1</th><td>SepalLength</td><td>5.1</td><td>setosa</td></tr><tr><th>2</th><td>SepalLength</td><td>4.9</td><td>setosa</td></tr><tr><th>3</th><td>SepalLength</td><td>4.7</td><td>setosa</td></tr><tr><th>4</th><td>SepalLength</td><td>4.6</td><td>setosa</td></tr><tr><th>5</th><td>SepalLength</td><td>5.0</td><td>setosa</td></tr><tr><th>6</th><td>SepalLength</td><td>5.4</td><td>setosa</td></tr><tr><th>7</th><td>SepalLength</td><td>4.6</td><td>setosa</td></tr><tr><th>8</th><td>SepalLength</td><td>5.0</td><td>setosa</td></tr><tr><th>9</th><td>SepalLength</td><td>4.4</td><td>setosa</td></tr><tr><th>10</th><td>SepalLength</td><td>4.9</td><td>setosa</td></tr><tr><th>11</th><td>SepalLength</td><td>5.4</td><td>setosa</td></tr><tr><th>12</th><td>SepalLength</td><td>4.8</td><td>setosa</td></tr><tr><th>13</th><td>SepalLength</td><td>4.8</td><td>setosa</td></tr><tr><th>14</th><td>SepalLength</td><td>4.3</td><td>setosa</td></tr><tr><th>15</th><td>SepalLength</td><td>5.8</td><td>setosa</td></tr><tr><th>16</th><td>SepalLength</td><td>5.7</td><td>setosa</td></tr><tr><th>17</th><td>SepalLength</td><td>5.4</td><td>setosa</td></tr><tr><th>18</th><td>SepalLength</td><td>5.1</td><td>setosa</td></tr><tr><th>19</th><td>SepalLength</td><td>5.7</td><td>setosa</td></tr><tr><th>20</th><td>SepalLength</td><td>5.1</td><td>setosa</td></tr><tr><th>21</th><td>SepalLength</td><td>5.4</td><td>setosa</td></tr><tr><th>22</th><td>SepalLength</td><td>5.1</td><td>setosa</td></tr><tr><th>23</th><td>SepalLength</td><td>4.6</td><td>setosa</td></tr><tr><th>24</th><td>SepalLength</td><td>5.1</td><td>setosa</td></tr><tr><th>25</th><td>SepalLength</td><td>4.8</td><td>setosa</td></tr><tr><th>26</th><td>SepalLength</td><td>5.0</td><td>setosa</td></tr><tr><th>27</th><td>SepalLength</td><td>5.0</td><td>setosa</td></tr><tr><th>28</th><td>SepalLength</td><td>5.2</td><td>setosa</td></tr><tr><th>29</th><td>SepalLength</td><td>5.2</td><td>setosa</td></tr><tr><th>30</th><td>SepalLength</td><td>4.7</td><td>setosa</td></tr><tr><th>&vellip;</th><td>&vellip;</td><td>&vellip;</td><td>&vellip;</td></tr></table>"
      ],
      "text/plain": [
       "750x3 DataFrame\n",
       "| Row | variable    | value | Species     |\n",
       "|-----|-------------|-------|-------------|\n",
       "| 1   | SepalLength | 5.1   | \"setosa\"    |\n",
       "| 2   | SepalLength | 4.9   | \"setosa\"    |\n",
       "| 3   | SepalLength | 4.7   | \"setosa\"    |\n",
       "| 4   | SepalLength | 4.6   | \"setosa\"    |\n",
       "| 5   | SepalLength | 5.0   | \"setosa\"    |\n",
       "| 6   | SepalLength | 5.4   | \"setosa\"    |\n",
       "| 7   | SepalLength | 4.6   | \"setosa\"    |\n",
       "| 8   | SepalLength | 5.0   | \"setosa\"    |\n",
       "| 9   | SepalLength | 4.4   | \"setosa\"    |\n",
       "| 10  | SepalLength | 4.9   | \"setosa\"    |\n",
       "| 11  | SepalLength | 5.4   | \"setosa\"    |\n",
       "⋮\n",
       "| 739 | id          | 139.0 | \"virginica\" |\n",
       "| 740 | id          | 140.0 | \"virginica\" |\n",
       "| 741 | id          | 141.0 | \"virginica\" |\n",
       "| 742 | id          | 142.0 | \"virginica\" |\n",
       "| 743 | id          | 143.0 | \"virginica\" |\n",
       "| 744 | id          | 144.0 | \"virginica\" |\n",
       "| 745 | id          | 145.0 | \"virginica\" |\n",
       "| 746 | id          | 146.0 | \"virginica\" |\n",
       "| 747 | id          | 147.0 | \"virginica\" |\n",
       "| 748 | id          | 148.0 | \"virginica\" |\n",
       "| 749 | id          | 149.0 | \"virginica\" |\n",
       "| 750 | id          | 150.0 | \"virginica\" |"
      ]
     },
     "execution_count": 37,
     "metadata": {},
     "output_type": "execute_result"
    }
   ],
   "source": [
    "d = melt(iris, :Species)"
   ]
  },
  {
   "cell_type": "code",
   "execution_count": 39,
   "metadata": {
    "collapsed": false
   },
   "outputs": [
    {
     "data": {
      "text/html": [
       "<table class=\"data-frame\"><tr><th></th><th>SepalLength</th><th>SepalWidth</th><th>PetalLength</th><th>PetalWidth</th><th>Species</th><th>id</th></tr><tr><th>1</th><td>4.3</td><td>3.0</td><td>1.1</td><td>0.1</td><td>setosa</td><td>14</td></tr><tr><th>2</th><td>4.4</td><td>2.9</td><td>1.4</td><td>0.2</td><td>setosa</td><td>9</td></tr><tr><th>3</th><td>4.4</td><td>3.0</td><td>1.3</td><td>0.2</td><td>setosa</td><td>39</td></tr><tr><th>4</th><td>4.4</td><td>3.2</td><td>1.3</td><td>0.2</td><td>setosa</td><td>43</td></tr><tr><th>5</th><td>4.5</td><td>2.3</td><td>1.3</td><td>0.3</td><td>setosa</td><td>42</td></tr><tr><th>6</th><td>4.6</td><td>3.1</td><td>1.5</td><td>0.2</td><td>setosa</td><td>4</td></tr><tr><th>7</th><td>4.6</td><td>3.2</td><td>1.4</td><td>0.2</td><td>setosa</td><td>48</td></tr><tr><th>8</th><td>4.6</td><td>3.4</td><td>1.4</td><td>0.3</td><td>setosa</td><td>7</td></tr><tr><th>9</th><td>4.6</td><td>3.6</td><td>1.0</td><td>0.2</td><td>setosa</td><td>23</td></tr><tr><th>10</th><td>4.7</td><td>3.2</td><td>1.3</td><td>0.2</td><td>setosa</td><td>3</td></tr><tr><th>11</th><td>4.7</td><td>3.2</td><td>1.6</td><td>0.2</td><td>setosa</td><td>30</td></tr><tr><th>12</th><td>4.8</td><td>3.0</td><td>1.4</td><td>0.1</td><td>setosa</td><td>13</td></tr><tr><th>13</th><td>4.8</td><td>3.0</td><td>1.4</td><td>0.3</td><td>setosa</td><td>46</td></tr><tr><th>14</th><td>4.8</td><td>3.1</td><td>1.6</td><td>0.2</td><td>setosa</td><td>31</td></tr><tr><th>15</th><td>4.8</td><td>3.4</td><td>1.6</td><td>0.2</td><td>setosa</td><td>12</td></tr><tr><th>16</th><td>4.8</td><td>3.4</td><td>1.9</td><td>0.2</td><td>setosa</td><td>25</td></tr><tr><th>17</th><td>4.9</td><td>2.4</td><td>3.3</td><td>1.0</td><td>versicolor</td><td>58</td></tr><tr><th>18</th><td>4.9</td><td>2.5</td><td>4.5</td><td>1.7</td><td>virginica</td><td>107</td></tr><tr><th>19</th><td>4.9</td><td>3.0</td><td>1.4</td><td>0.2</td><td>setosa</td><td>2</td></tr><tr><th>20</th><td>4.9</td><td>3.1</td><td>1.5</td><td>0.1</td><td>setosa</td><td>10</td></tr><tr><th>21</th><td>4.9</td><td>3.1</td><td>1.5</td><td>0.2</td><td>setosa</td><td>35</td></tr><tr><th>22</th><td>4.9</td><td>3.6</td><td>1.4</td><td>0.1</td><td>setosa</td><td>38</td></tr><tr><th>23</th><td>5.0</td><td>2.0</td><td>3.5</td><td>1.0</td><td>versicolor</td><td>61</td></tr><tr><th>24</th><td>5.0</td><td>2.3</td><td>3.3</td><td>1.0</td><td>versicolor</td><td>94</td></tr><tr><th>25</th><td>5.0</td><td>3.0</td><td>1.6</td><td>0.2</td><td>setosa</td><td>26</td></tr><tr><th>26</th><td>5.0</td><td>3.2</td><td>1.2</td><td>0.2</td><td>setosa</td><td>36</td></tr><tr><th>27</th><td>5.0</td><td>3.3</td><td>1.4</td><td>0.2</td><td>setosa</td><td>50</td></tr><tr><th>28</th><td>5.0</td><td>3.4</td><td>1.5</td><td>0.2</td><td>setosa</td><td>8</td></tr><tr><th>29</th><td>5.0</td><td>3.4</td><td>1.6</td><td>0.4</td><td>setosa</td><td>27</td></tr><tr><th>30</th><td>5.0</td><td>3.5</td><td>1.3</td><td>0.3</td><td>setosa</td><td>41</td></tr><tr><th>&vellip;</th><td>&vellip;</td><td>&vellip;</td><td>&vellip;</td><td>&vellip;</td><td>&vellip;</td><td>&vellip;</td></tr></table>"
      ],
      "text/plain": [
       "150x6 DataFrame\n",
       "| Row | SepalLength | SepalWidth | PetalLength | PetalWidth | Species     |\n",
       "|-----|-------------|------------|-------------|------------|-------------|\n",
       "| 1   | 4.3         | 3.0        | 1.1         | 0.1        | \"setosa\"    |\n",
       "| 2   | 4.4         | 2.9        | 1.4         | 0.2        | \"setosa\"    |\n",
       "| 3   | 4.4         | 3.0        | 1.3         | 0.2        | \"setosa\"    |\n",
       "| 4   | 4.4         | 3.2        | 1.3         | 0.2        | \"setosa\"    |\n",
       "| 5   | 4.5         | 2.3        | 1.3         | 0.3        | \"setosa\"    |\n",
       "| 6   | 4.6         | 3.1        | 1.5         | 0.2        | \"setosa\"    |\n",
       "| 7   | 4.6         | 3.2        | 1.4         | 0.2        | \"setosa\"    |\n",
       "| 8   | 4.6         | 3.4        | 1.4         | 0.3        | \"setosa\"    |\n",
       "| 9   | 4.6         | 3.6        | 1.0         | 0.2        | \"setosa\"    |\n",
       "| 10  | 4.7         | 3.2        | 1.3         | 0.2        | \"setosa\"    |\n",
       "| 11  | 4.7         | 3.2        | 1.6         | 0.2        | \"setosa\"    |\n",
       "⋮\n",
       "| 139 | 7.1         | 3.0        | 5.9         | 2.1        | \"virginica\" |\n",
       "| 140 | 7.2         | 3.0        | 5.8         | 1.6        | \"virginica\" |\n",
       "| 141 | 7.2         | 3.2        | 6.0         | 1.8        | \"virginica\" |\n",
       "| 142 | 7.2         | 3.6        | 6.1         | 2.5        | \"virginica\" |\n",
       "| 143 | 7.3         | 2.9        | 6.3         | 1.8        | \"virginica\" |\n",
       "| 144 | 7.4         | 2.8        | 6.1         | 1.9        | \"virginica\" |\n",
       "| 145 | 7.6         | 3.0        | 6.6         | 2.1        | \"virginica\" |\n",
       "| 146 | 7.7         | 2.6        | 6.9         | 2.3        | \"virginica\" |\n",
       "| 147 | 7.7         | 2.8        | 6.7         | 2.0        | \"virginica\" |\n",
       "| 148 | 7.7         | 3.0        | 6.1         | 2.3        | \"virginica\" |\n",
       "| 149 | 7.7         | 3.8        | 6.7         | 2.2        | \"virginica\" |\n",
       "| 150 | 7.9         | 3.8        | 6.4         | 2.0        | \"virginica\" |\n",
       "\n",
       "| Row | id  |\n",
       "|-----|-----|\n",
       "| 1   | 14  |\n",
       "| 2   | 9   |\n",
       "| 3   | 39  |\n",
       "| 4   | 43  |\n",
       "| 5   | 42  |\n",
       "| 6   | 4   |\n",
       "| 7   | 48  |\n",
       "| 8   | 7   |\n",
       "| 9   | 23  |\n",
       "| 10  | 3   |\n",
       "| 11  | 30  |\n",
       "⋮\n",
       "| 139 | 103 |\n",
       "| 140 | 130 |\n",
       "| 141 | 126 |\n",
       "| 142 | 110 |\n",
       "| 143 | 108 |\n",
       "| 144 | 131 |\n",
       "| 145 | 106 |\n",
       "| 146 | 119 |\n",
       "| 147 | 123 |\n",
       "| 148 | 136 |\n",
       "| 149 | 118 |\n",
       "| 150 | 132 |"
      ]
     },
     "execution_count": 39,
     "metadata": {},
     "output_type": "execute_result"
    }
   ],
   "source": [
    "sort!(iris)"
   ]
  },
  {
   "cell_type": "code",
   "execution_count": 40,
   "metadata": {
    "collapsed": false
   },
   "outputs": [
    {
     "data": {
      "text/html": [
       "<table class=\"data-frame\"><tr><th></th><th>SepalLength</th><th>SepalWidth</th><th>PetalLength</th><th>PetalWidth</th><th>Species</th><th>id</th></tr><tr><th>1</th><td>5.8</td><td>4.0</td><td>1.2</td><td>0.2</td><td>setosa</td><td>15</td></tr><tr><th>2</th><td>5.7</td><td>3.8</td><td>1.7</td><td>0.3</td><td>setosa</td><td>19</td></tr><tr><th>3</th><td>5.7</td><td>4.4</td><td>1.5</td><td>0.4</td><td>setosa</td><td>16</td></tr><tr><th>4</th><td>5.5</td><td>3.5</td><td>1.3</td><td>0.2</td><td>setosa</td><td>37</td></tr><tr><th>5</th><td>5.5</td><td>4.2</td><td>1.4</td><td>0.2</td><td>setosa</td><td>34</td></tr><tr><th>6</th><td>5.4</td><td>3.4</td><td>1.7</td><td>0.2</td><td>setosa</td><td>21</td></tr><tr><th>7</th><td>5.4</td><td>3.4</td><td>1.5</td><td>0.4</td><td>setosa</td><td>32</td></tr><tr><th>8</th><td>5.4</td><td>3.7</td><td>1.5</td><td>0.2</td><td>setosa</td><td>11</td></tr><tr><th>9</th><td>5.4</td><td>3.9</td><td>1.7</td><td>0.4</td><td>setosa</td><td>6</td></tr><tr><th>10</th><td>5.4</td><td>3.9</td><td>1.3</td><td>0.4</td><td>setosa</td><td>17</td></tr><tr><th>11</th><td>5.3</td><td>3.7</td><td>1.5</td><td>0.2</td><td>setosa</td><td>49</td></tr><tr><th>12</th><td>5.2</td><td>3.4</td><td>1.4</td><td>0.2</td><td>setosa</td><td>29</td></tr><tr><th>13</th><td>5.2</td><td>3.5</td><td>1.5</td><td>0.2</td><td>setosa</td><td>28</td></tr><tr><th>14</th><td>5.2</td><td>4.1</td><td>1.5</td><td>0.1</td><td>setosa</td><td>33</td></tr><tr><th>15</th><td>5.1</td><td>3.3</td><td>1.7</td><td>0.5</td><td>setosa</td><td>24</td></tr><tr><th>16</th><td>5.1</td><td>3.4</td><td>1.5</td><td>0.2</td><td>setosa</td><td>40</td></tr><tr><th>17</th><td>5.1</td><td>3.5</td><td>1.4</td><td>0.3</td><td>setosa</td><td>18</td></tr><tr><th>18</th><td>5.1</td><td>3.5</td><td>1.4</td><td>0.2</td><td>setosa</td><td>1</td></tr><tr><th>19</th><td>5.1</td><td>3.7</td><td>1.5</td><td>0.4</td><td>setosa</td><td>22</td></tr><tr><th>20</th><td>5.1</td><td>3.8</td><td>1.9</td><td>0.4</td><td>setosa</td><td>45</td></tr><tr><th>21</th><td>5.1</td><td>3.8</td><td>1.6</td><td>0.2</td><td>setosa</td><td>47</td></tr><tr><th>22</th><td>5.1</td><td>3.8</td><td>1.5</td><td>0.3</td><td>setosa</td><td>20</td></tr><tr><th>23</th><td>5.0</td><td>3.0</td><td>1.6</td><td>0.2</td><td>setosa</td><td>26</td></tr><tr><th>24</th><td>5.0</td><td>3.2</td><td>1.2</td><td>0.2</td><td>setosa</td><td>36</td></tr><tr><th>25</th><td>5.0</td><td>3.3</td><td>1.4</td><td>0.2</td><td>setosa</td><td>50</td></tr><tr><th>26</th><td>5.0</td><td>3.4</td><td>1.6</td><td>0.4</td><td>setosa</td><td>27</td></tr><tr><th>27</th><td>5.0</td><td>3.4</td><td>1.5</td><td>0.2</td><td>setosa</td><td>8</td></tr><tr><th>28</th><td>5.0</td><td>3.5</td><td>1.6</td><td>0.6</td><td>setosa</td><td>44</td></tr><tr><th>29</th><td>5.0</td><td>3.5</td><td>1.3</td><td>0.3</td><td>setosa</td><td>41</td></tr><tr><th>30</th><td>5.0</td><td>3.6</td><td>1.4</td><td>0.2</td><td>setosa</td><td>5</td></tr><tr><th>&vellip;</th><td>&vellip;</td><td>&vellip;</td><td>&vellip;</td><td>&vellip;</td><td>&vellip;</td><td>&vellip;</td></tr></table>"
      ],
      "text/plain": [
       "150x6 DataFrame\n",
       "| Row | SepalLength | SepalWidth | PetalLength | PetalWidth | Species     |\n",
       "|-----|-------------|------------|-------------|------------|-------------|\n",
       "| 1   | 5.8         | 4.0        | 1.2         | 0.2        | \"setosa\"    |\n",
       "| 2   | 5.7         | 3.8        | 1.7         | 0.3        | \"setosa\"    |\n",
       "| 3   | 5.7         | 4.4        | 1.5         | 0.4        | \"setosa\"    |\n",
       "| 4   | 5.5         | 3.5        | 1.3         | 0.2        | \"setosa\"    |\n",
       "| 5   | 5.5         | 4.2        | 1.4         | 0.2        | \"setosa\"    |\n",
       "| 6   | 5.4         | 3.4        | 1.7         | 0.2        | \"setosa\"    |\n",
       "| 7   | 5.4         | 3.4        | 1.5         | 0.4        | \"setosa\"    |\n",
       "| 8   | 5.4         | 3.7        | 1.5         | 0.2        | \"setosa\"    |\n",
       "| 9   | 5.4         | 3.9        | 1.7         | 0.4        | \"setosa\"    |\n",
       "| 10  | 5.4         | 3.9        | 1.3         | 0.4        | \"setosa\"    |\n",
       "| 11  | 5.3         | 3.7        | 1.5         | 0.2        | \"setosa\"    |\n",
       "⋮\n",
       "| 139 | 6.2         | 3.4        | 5.4         | 2.3        | \"virginica\" |\n",
       "| 140 | 6.1         | 2.6        | 5.6         | 1.4        | \"virginica\" |\n",
       "| 141 | 6.1         | 3.0        | 4.9         | 1.8        | \"virginica\" |\n",
       "| 142 | 6.0         | 2.2        | 5.0         | 1.5        | \"virginica\" |\n",
       "| 143 | 6.0         | 3.0        | 4.8         | 1.8        | \"virginica\" |\n",
       "| 144 | 5.9         | 3.0        | 5.1         | 1.8        | \"virginica\" |\n",
       "| 145 | 5.8         | 2.7        | 5.1         | 1.9        | \"virginica\" |\n",
       "| 146 | 5.8         | 2.7        | 5.1         | 1.9        | \"virginica\" |\n",
       "| 147 | 5.8         | 2.8        | 5.1         | 2.4        | \"virginica\" |\n",
       "| 148 | 5.7         | 2.5        | 5.0         | 2.0        | \"virginica\" |\n",
       "| 149 | 5.6         | 2.8        | 4.9         | 2.0        | \"virginica\" |\n",
       "| 150 | 4.9         | 2.5        | 4.5         | 1.7        | \"virginica\" |\n",
       "\n",
       "| Row | id  |\n",
       "|-----|-----|\n",
       "| 1   | 15  |\n",
       "| 2   | 19  |\n",
       "| 3   | 16  |\n",
       "| 4   | 37  |\n",
       "| 5   | 34  |\n",
       "| 6   | 21  |\n",
       "| 7   | 32  |\n",
       "| 8   | 11  |\n",
       "| 9   | 6   |\n",
       "| 10  | 17  |\n",
       "| 11  | 49  |\n",
       "⋮\n",
       "| 139 | 149 |\n",
       "| 140 | 135 |\n",
       "| 141 | 128 |\n",
       "| 142 | 120 |\n",
       "| 143 | 139 |\n",
       "| 144 | 150 |\n",
       "| 145 | 143 |\n",
       "| 146 | 102 |\n",
       "| 147 | 115 |\n",
       "| 148 | 114 |\n",
       "| 149 | 122 |\n",
       "| 150 | 107 |"
      ]
     },
     "execution_count": 40,
     "metadata": {},
     "output_type": "execute_result"
    }
   ],
   "source": [
    "sort!(iris, rev = true)\n",
    "\n",
    "sort!(iris, cols = [:SepalWidth, :SepalLength])\n",
    "\n",
    "sort!(iris, cols = [order(:Species, by = uppercase),\n",
    "                    order(:SepalLength, rev = true)])"
   ]
  },
  {
   "cell_type": "markdown",
   "metadata": {},
   "source": [
    "The following two examples show two ways to sort the iris dataset with the same result: Species will be ordered in reverse lexicographic order, and within species, rows will be sorted by increasing sepal length and width:"
   ]
  },
  {
   "cell_type": "code",
   "execution_count": 41,
   "metadata": {
    "collapsed": false
   },
   "outputs": [
    {
     "data": {
      "text/html": [
       "<table class=\"data-frame\"><tr><th></th><th>SepalLength</th><th>SepalWidth</th><th>PetalLength</th><th>PetalWidth</th><th>Species</th><th>id</th></tr><tr><th>1</th><td>4.9</td><td>2.5</td><td>4.5</td><td>1.7</td><td>virginica</td><td>107</td></tr><tr><th>2</th><td>5.6</td><td>2.8</td><td>4.9</td><td>2.0</td><td>virginica</td><td>122</td></tr><tr><th>3</th><td>5.7</td><td>2.5</td><td>5.0</td><td>2.0</td><td>virginica</td><td>114</td></tr><tr><th>4</th><td>5.8</td><td>2.7</td><td>5.1</td><td>1.9</td><td>virginica</td><td>143</td></tr><tr><th>5</th><td>5.8</td><td>2.7</td><td>5.1</td><td>1.9</td><td>virginica</td><td>102</td></tr><tr><th>6</th><td>5.8</td><td>2.8</td><td>5.1</td><td>2.4</td><td>virginica</td><td>115</td></tr><tr><th>7</th><td>5.9</td><td>3.0</td><td>5.1</td><td>1.8</td><td>virginica</td><td>150</td></tr><tr><th>8</th><td>6.0</td><td>2.2</td><td>5.0</td><td>1.5</td><td>virginica</td><td>120</td></tr><tr><th>9</th><td>6.0</td><td>3.0</td><td>4.8</td><td>1.8</td><td>virginica</td><td>139</td></tr><tr><th>10</th><td>6.1</td><td>2.6</td><td>5.6</td><td>1.4</td><td>virginica</td><td>135</td></tr><tr><th>11</th><td>6.1</td><td>3.0</td><td>4.9</td><td>1.8</td><td>virginica</td><td>128</td></tr><tr><th>12</th><td>6.2</td><td>2.8</td><td>4.8</td><td>1.8</td><td>virginica</td><td>127</td></tr><tr><th>13</th><td>6.2</td><td>3.4</td><td>5.4</td><td>2.3</td><td>virginica</td><td>149</td></tr><tr><th>14</th><td>6.3</td><td>2.5</td><td>5.0</td><td>1.9</td><td>virginica</td><td>147</td></tr><tr><th>15</th><td>6.3</td><td>2.7</td><td>4.9</td><td>1.8</td><td>virginica</td><td>124</td></tr><tr><th>16</th><td>6.3</td><td>2.8</td><td>5.1</td><td>1.5</td><td>virginica</td><td>134</td></tr><tr><th>17</th><td>6.3</td><td>2.9</td><td>5.6</td><td>1.8</td><td>virginica</td><td>104</td></tr><tr><th>18</th><td>6.3</td><td>3.3</td><td>6.0</td><td>2.5</td><td>virginica</td><td>101</td></tr><tr><th>19</th><td>6.3</td><td>3.4</td><td>5.6</td><td>2.4</td><td>virginica</td><td>137</td></tr><tr><th>20</th><td>6.4</td><td>2.7</td><td>5.3</td><td>1.9</td><td>virginica</td><td>112</td></tr><tr><th>21</th><td>6.4</td><td>2.8</td><td>5.6</td><td>2.2</td><td>virginica</td><td>133</td></tr><tr><th>22</th><td>6.4</td><td>2.8</td><td>5.6</td><td>2.1</td><td>virginica</td><td>129</td></tr><tr><th>23</th><td>6.4</td><td>3.1</td><td>5.5</td><td>1.8</td><td>virginica</td><td>138</td></tr><tr><th>24</th><td>6.4</td><td>3.2</td><td>5.3</td><td>2.3</td><td>virginica</td><td>116</td></tr><tr><th>25</th><td>6.5</td><td>3.0</td><td>5.8</td><td>2.2</td><td>virginica</td><td>105</td></tr><tr><th>26</th><td>6.5</td><td>3.0</td><td>5.5</td><td>1.8</td><td>virginica</td><td>117</td></tr><tr><th>27</th><td>6.5</td><td>3.0</td><td>5.2</td><td>2.0</td><td>virginica</td><td>148</td></tr><tr><th>28</th><td>6.5</td><td>3.2</td><td>5.1</td><td>2.0</td><td>virginica</td><td>111</td></tr><tr><th>29</th><td>6.7</td><td>2.5</td><td>5.8</td><td>1.8</td><td>virginica</td><td>109</td></tr><tr><th>30</th><td>6.7</td><td>3.0</td><td>5.2</td><td>2.3</td><td>virginica</td><td>146</td></tr><tr><th>&vellip;</th><td>&vellip;</td><td>&vellip;</td><td>&vellip;</td><td>&vellip;</td><td>&vellip;</td><td>&vellip;</td></tr></table>"
      ],
      "text/plain": [
       "150x6 DataFrame\n",
       "| Row | SepalLength | SepalWidth | PetalLength | PetalWidth | Species     |\n",
       "|-----|-------------|------------|-------------|------------|-------------|\n",
       "| 1   | 4.9         | 2.5        | 4.5         | 1.7        | \"virginica\" |\n",
       "| 2   | 5.6         | 2.8        | 4.9         | 2.0        | \"virginica\" |\n",
       "| 3   | 5.7         | 2.5        | 5.0         | 2.0        | \"virginica\" |\n",
       "| 4   | 5.8         | 2.7        | 5.1         | 1.9        | \"virginica\" |\n",
       "| 5   | 5.8         | 2.7        | 5.1         | 1.9        | \"virginica\" |\n",
       "| 6   | 5.8         | 2.8        | 5.1         | 2.4        | \"virginica\" |\n",
       "| 7   | 5.9         | 3.0        | 5.1         | 1.8        | \"virginica\" |\n",
       "| 8   | 6.0         | 2.2        | 5.0         | 1.5        | \"virginica\" |\n",
       "| 9   | 6.0         | 3.0        | 4.8         | 1.8        | \"virginica\" |\n",
       "| 10  | 6.1         | 2.6        | 5.6         | 1.4        | \"virginica\" |\n",
       "| 11  | 6.1         | 3.0        | 4.9         | 1.8        | \"virginica\" |\n",
       "⋮\n",
       "| 139 | 5.2         | 4.1        | 1.5         | 0.1        | \"setosa\"    |\n",
       "| 140 | 5.3         | 3.7        | 1.5         | 0.2        | \"setosa\"    |\n",
       "| 141 | 5.4         | 3.4        | 1.7         | 0.2        | \"setosa\"    |\n",
       "| 142 | 5.4         | 3.4        | 1.5         | 0.4        | \"setosa\"    |\n",
       "| 143 | 5.4         | 3.7        | 1.5         | 0.2        | \"setosa\"    |\n",
       "| 144 | 5.4         | 3.9        | 1.7         | 0.4        | \"setosa\"    |\n",
       "| 145 | 5.4         | 3.9        | 1.3         | 0.4        | \"setosa\"    |\n",
       "| 146 | 5.5         | 3.5        | 1.3         | 0.2        | \"setosa\"    |\n",
       "| 147 | 5.5         | 4.2        | 1.4         | 0.2        | \"setosa\"    |\n",
       "| 148 | 5.7         | 3.8        | 1.7         | 0.3        | \"setosa\"    |\n",
       "| 149 | 5.7         | 4.4        | 1.5         | 0.4        | \"setosa\"    |\n",
       "| 150 | 5.8         | 4.0        | 1.2         | 0.2        | \"setosa\"    |\n",
       "\n",
       "| Row | id  |\n",
       "|-----|-----|\n",
       "| 1   | 107 |\n",
       "| 2   | 122 |\n",
       "| 3   | 114 |\n",
       "| 4   | 143 |\n",
       "| 5   | 102 |\n",
       "| 6   | 115 |\n",
       "| 7   | 150 |\n",
       "| 8   | 120 |\n",
       "| 9   | 139 |\n",
       "| 10  | 135 |\n",
       "| 11  | 128 |\n",
       "⋮\n",
       "| 139 | 33  |\n",
       "| 140 | 49  |\n",
       "| 141 | 21  |\n",
       "| 142 | 32  |\n",
       "| 143 | 11  |\n",
       "| 144 | 6   |\n",
       "| 145 | 17  |\n",
       "| 146 | 37  |\n",
       "| 147 | 34  |\n",
       "| 148 | 19  |\n",
       "| 149 | 16  |\n",
       "| 150 | 15  |"
      ]
     },
     "execution_count": 41,
     "metadata": {},
     "output_type": "execute_result"
    }
   ],
   "source": [
    "sort!(iris, cols = (:Species, :SepalLength, :SepalWidth),\n",
    "            rev = (true, false, false))"
   ]
  },
  {
   "cell_type": "code",
   "execution_count": 42,
   "metadata": {
    "collapsed": false
   },
   "outputs": [
    {
     "data": {
      "text/html": [
       "<table class=\"data-frame\"><tr><th></th><th>SepalLength</th><th>SepalWidth</th><th>PetalLength</th><th>PetalWidth</th><th>Species</th><th>id</th></tr><tr><th>1</th><td>4.9</td><td>2.5</td><td>4.5</td><td>1.7</td><td>virginica</td><td>107</td></tr><tr><th>2</th><td>5.6</td><td>2.8</td><td>4.9</td><td>2.0</td><td>virginica</td><td>122</td></tr><tr><th>3</th><td>5.7</td><td>2.5</td><td>5.0</td><td>2.0</td><td>virginica</td><td>114</td></tr><tr><th>4</th><td>5.8</td><td>2.7</td><td>5.1</td><td>1.9</td><td>virginica</td><td>143</td></tr><tr><th>5</th><td>5.8</td><td>2.7</td><td>5.1</td><td>1.9</td><td>virginica</td><td>102</td></tr><tr><th>6</th><td>5.8</td><td>2.8</td><td>5.1</td><td>2.4</td><td>virginica</td><td>115</td></tr><tr><th>7</th><td>5.9</td><td>3.0</td><td>5.1</td><td>1.8</td><td>virginica</td><td>150</td></tr><tr><th>8</th><td>6.0</td><td>2.2</td><td>5.0</td><td>1.5</td><td>virginica</td><td>120</td></tr><tr><th>9</th><td>6.0</td><td>3.0</td><td>4.8</td><td>1.8</td><td>virginica</td><td>139</td></tr><tr><th>10</th><td>6.1</td><td>2.6</td><td>5.6</td><td>1.4</td><td>virginica</td><td>135</td></tr><tr><th>11</th><td>6.1</td><td>3.0</td><td>4.9</td><td>1.8</td><td>virginica</td><td>128</td></tr><tr><th>12</th><td>6.2</td><td>2.8</td><td>4.8</td><td>1.8</td><td>virginica</td><td>127</td></tr><tr><th>13</th><td>6.2</td><td>3.4</td><td>5.4</td><td>2.3</td><td>virginica</td><td>149</td></tr><tr><th>14</th><td>6.3</td><td>2.5</td><td>5.0</td><td>1.9</td><td>virginica</td><td>147</td></tr><tr><th>15</th><td>6.3</td><td>2.7</td><td>4.9</td><td>1.8</td><td>virginica</td><td>124</td></tr><tr><th>16</th><td>6.3</td><td>2.8</td><td>5.1</td><td>1.5</td><td>virginica</td><td>134</td></tr><tr><th>17</th><td>6.3</td><td>2.9</td><td>5.6</td><td>1.8</td><td>virginica</td><td>104</td></tr><tr><th>18</th><td>6.3</td><td>3.3</td><td>6.0</td><td>2.5</td><td>virginica</td><td>101</td></tr><tr><th>19</th><td>6.3</td><td>3.4</td><td>5.6</td><td>2.4</td><td>virginica</td><td>137</td></tr><tr><th>20</th><td>6.4</td><td>2.7</td><td>5.3</td><td>1.9</td><td>virginica</td><td>112</td></tr><tr><th>21</th><td>6.4</td><td>2.8</td><td>5.6</td><td>2.2</td><td>virginica</td><td>133</td></tr><tr><th>22</th><td>6.4</td><td>2.8</td><td>5.6</td><td>2.1</td><td>virginica</td><td>129</td></tr><tr><th>23</th><td>6.4</td><td>3.1</td><td>5.5</td><td>1.8</td><td>virginica</td><td>138</td></tr><tr><th>24</th><td>6.4</td><td>3.2</td><td>5.3</td><td>2.3</td><td>virginica</td><td>116</td></tr><tr><th>25</th><td>6.5</td><td>3.0</td><td>5.8</td><td>2.2</td><td>virginica</td><td>105</td></tr><tr><th>26</th><td>6.5</td><td>3.0</td><td>5.5</td><td>1.8</td><td>virginica</td><td>117</td></tr><tr><th>27</th><td>6.5</td><td>3.0</td><td>5.2</td><td>2.0</td><td>virginica</td><td>148</td></tr><tr><th>28</th><td>6.5</td><td>3.2</td><td>5.1</td><td>2.0</td><td>virginica</td><td>111</td></tr><tr><th>29</th><td>6.7</td><td>2.5</td><td>5.8</td><td>1.8</td><td>virginica</td><td>109</td></tr><tr><th>30</th><td>6.7</td><td>3.0</td><td>5.2</td><td>2.3</td><td>virginica</td><td>146</td></tr><tr><th>&vellip;</th><td>&vellip;</td><td>&vellip;</td><td>&vellip;</td><td>&vellip;</td><td>&vellip;</td><td>&vellip;</td></tr></table>"
      ],
      "text/plain": [
       "150x6 DataFrame\n",
       "| Row | SepalLength | SepalWidth | PetalLength | PetalWidth | Species     |\n",
       "|-----|-------------|------------|-------------|------------|-------------|\n",
       "| 1   | 4.9         | 2.5        | 4.5         | 1.7        | \"virginica\" |\n",
       "| 2   | 5.6         | 2.8        | 4.9         | 2.0        | \"virginica\" |\n",
       "| 3   | 5.7         | 2.5        | 5.0         | 2.0        | \"virginica\" |\n",
       "| 4   | 5.8         | 2.7        | 5.1         | 1.9        | \"virginica\" |\n",
       "| 5   | 5.8         | 2.7        | 5.1         | 1.9        | \"virginica\" |\n",
       "| 6   | 5.8         | 2.8        | 5.1         | 2.4        | \"virginica\" |\n",
       "| 7   | 5.9         | 3.0        | 5.1         | 1.8        | \"virginica\" |\n",
       "| 8   | 6.0         | 2.2        | 5.0         | 1.5        | \"virginica\" |\n",
       "| 9   | 6.0         | 3.0        | 4.8         | 1.8        | \"virginica\" |\n",
       "| 10  | 6.1         | 2.6        | 5.6         | 1.4        | \"virginica\" |\n",
       "| 11  | 6.1         | 3.0        | 4.9         | 1.8        | \"virginica\" |\n",
       "⋮\n",
       "| 139 | 5.2         | 4.1        | 1.5         | 0.1        | \"setosa\"    |\n",
       "| 140 | 5.3         | 3.7        | 1.5         | 0.2        | \"setosa\"    |\n",
       "| 141 | 5.4         | 3.4        | 1.7         | 0.2        | \"setosa\"    |\n",
       "| 142 | 5.4         | 3.4        | 1.5         | 0.4        | \"setosa\"    |\n",
       "| 143 | 5.4         | 3.7        | 1.5         | 0.2        | \"setosa\"    |\n",
       "| 144 | 5.4         | 3.9        | 1.7         | 0.4        | \"setosa\"    |\n",
       "| 145 | 5.4         | 3.9        | 1.3         | 0.4        | \"setosa\"    |\n",
       "| 146 | 5.5         | 3.5        | 1.3         | 0.2        | \"setosa\"    |\n",
       "| 147 | 5.5         | 4.2        | 1.4         | 0.2        | \"setosa\"    |\n",
       "| 148 | 5.7         | 3.8        | 1.7         | 0.3        | \"setosa\"    |\n",
       "| 149 | 5.7         | 4.4        | 1.5         | 0.4        | \"setosa\"    |\n",
       "| 150 | 5.8         | 4.0        | 1.2         | 0.2        | \"setosa\"    |\n",
       "\n",
       "| Row | id  |\n",
       "|-----|-----|\n",
       "| 1   | 107 |\n",
       "| 2   | 122 |\n",
       "| 3   | 114 |\n",
       "| 4   | 143 |\n",
       "| 5   | 102 |\n",
       "| 6   | 115 |\n",
       "| 7   | 150 |\n",
       "| 8   | 120 |\n",
       "| 9   | 139 |\n",
       "| 10  | 135 |\n",
       "| 11  | 128 |\n",
       "⋮\n",
       "| 139 | 33  |\n",
       "| 140 | 49  |\n",
       "| 141 | 21  |\n",
       "| 142 | 32  |\n",
       "| 143 | 11  |\n",
       "| 144 | 6   |\n",
       "| 145 | 17  |\n",
       "| 146 | 37  |\n",
       "| 147 | 34  |\n",
       "| 148 | 19  |\n",
       "| 149 | 16  |\n",
       "| 150 | 15  |"
      ]
     },
     "execution_count": 42,
     "metadata": {},
     "output_type": "execute_result"
    }
   ],
   "source": [
    "sort!(iris,\n",
    "      cols = (order(:Species, rev = true), :SepalLength, :SepalWidth))"
   ]
  },
  {
   "cell_type": "markdown",
   "metadata": {},
   "source": [
    "##The Formula, ModelFrame and ModelMatrix Types"
   ]
  },
  {
   "cell_type": "code",
   "execution_count": 43,
   "metadata": {
    "collapsed": false
   },
   "outputs": [
    {
     "data": {
      "text/plain": [
       "Formula: Z ~ X + Y"
      ]
     },
     "execution_count": 43,
     "metadata": {},
     "output_type": "execute_result"
    }
   ],
   "source": [
    "fm = Z ~ X + Y"
   ]
  },
  {
   "cell_type": "code",
   "execution_count": 44,
   "metadata": {
    "collapsed": false
   },
   "outputs": [
    {
     "data": {
      "text/plain": [
       "ModelFrame(10x3 DataFrame\n",
       "| Row | Z         | X         | Y          |\n",
       "|-----|-----------|-----------|------------|\n",
       "| 1   | 0.794779  | -1.59965  | 1.01895    |\n",
       "| 2   | -1.21096  | -0.321773 | 0.148022   |\n",
       "| 3   | 0.419271  | -0.980067 | -0.346114  |\n",
       "| 4   | -0.462574 | -0.206005 | 0.483565   |\n",
       "| 5   | 0.967427  | -1.12538  | 1.14153    |\n",
       "| 6   | -0.358823 | 0.355719  | -0.0709589 |\n",
       "| 7   | -0.486693 | -0.56209  | 0.442729   |\n",
       "| 8   | 0.823228  | 0.29741   | -0.418333  |\n",
       "| 9   | 0.364264  | 0.0452285 | 0.0429356  |\n",
       "| 10  | -0.109961 | -0.518664 | -1.47131   |,Terms({:X,:Y},{:Z,:X,:Y},3x3 Array{Int8,2}:\n",
       " 1  0  0\n",
       " 0  1  0\n",
       " 0  0  1,[1,1,1],true,true),Bool[true,true,true,true,true,true,true,true,true,true])"
      ]
     },
     "execution_count": 44,
     "metadata": {},
     "output_type": "execute_result"
    }
   ],
   "source": [
    "df = DataFrame(X = randn(10), Y = randn(10), Z = randn(10))\n",
    "mf = ModelFrame(Z ~ X + Y, df)"
   ]
  },
  {
   "cell_type": "code",
   "execution_count": 45,
   "metadata": {
    "collapsed": false
   },
   "outputs": [
    {
     "data": {
      "text/plain": [
       "ModelMatrix{Float64}(10x3 Array{Float64,2}:\n",
       " 1.0  -1.59965     1.01895  \n",
       " 1.0  -0.321773    0.148022 \n",
       " 1.0  -0.980067   -0.346114 \n",
       " 1.0  -0.206005    0.483565 \n",
       " 1.0  -1.12538     1.14153  \n",
       " 1.0   0.355719   -0.0709589\n",
       " 1.0  -0.56209     0.442729 \n",
       " 1.0   0.29741    -0.418333 \n",
       " 1.0   0.0452285   0.0429356\n",
       " 1.0  -0.518664   -1.47131  ,[0,1,2])"
      ]
     },
     "execution_count": 45,
     "metadata": {},
     "output_type": "execute_result"
    }
   ],
   "source": [
    "mm = ModelMatrix(ModelFrame(Z ~ X + Y, df))"
   ]
  },
  {
   "cell_type": "markdown",
   "metadata": {},
   "source": [
    "Expressing interactions"
   ]
  },
  {
   "cell_type": "code",
   "execution_count": 46,
   "metadata": {
    "collapsed": false
   },
   "outputs": [
    {
     "data": {
      "text/plain": [
       "ModelMatrix{Float64}(10x4 Array{Float64,2}:\n",
       " 1.0  -1.59965     1.01895    -1.62997   \n",
       " 1.0  -0.321773    0.148022   -0.0476295 \n",
       " 1.0  -0.980067   -0.346114    0.339215  \n",
       " 1.0  -0.206005    0.483565   -0.0996167 \n",
       " 1.0  -1.12538     1.14153    -1.28466   \n",
       " 1.0   0.355719   -0.0709589  -0.0252414 \n",
       " 1.0  -0.56209     0.442729   -0.248854  \n",
       " 1.0   0.29741    -0.418333   -0.124417  \n",
       " 1.0   0.0452285   0.0429356   0.00194192\n",
       " 1.0  -0.518664   -1.47131     0.763114  ,[0,1,2,3])"
      ]
     },
     "execution_count": 46,
     "metadata": {},
     "output_type": "execute_result"
    }
   ],
   "source": [
    "mm = ModelMatrix(ModelFrame(Z ~ X + Y + X&Y, df))"
   ]
  },
  {
   "cell_type": "markdown",
   "metadata": {},
   "source": [
    "Expressing main effects and interactions"
   ]
  },
  {
   "cell_type": "code",
   "execution_count": 47,
   "metadata": {
    "collapsed": false
   },
   "outputs": [
    {
     "data": {
      "text/plain": [
       "ModelMatrix{Float64}(10x4 Array{Float64,2}:\n",
       " 1.0  -1.59965     1.01895    -1.62997   \n",
       " 1.0  -0.321773    0.148022   -0.0476295 \n",
       " 1.0  -0.980067   -0.346114    0.339215  \n",
       " 1.0  -0.206005    0.483565   -0.0996167 \n",
       " 1.0  -1.12538     1.14153    -1.28466   \n",
       " 1.0   0.355719   -0.0709589  -0.0252414 \n",
       " 1.0  -0.56209     0.442729   -0.248854  \n",
       " 1.0   0.29741    -0.418333   -0.124417  \n",
       " 1.0   0.0452285   0.0429356   0.00194192\n",
       " 1.0  -0.518664   -1.47131     0.763114  ,[0,1,2,3])"
      ]
     },
     "execution_count": 47,
     "metadata": {},
     "output_type": "execute_result"
    }
   ],
   "source": [
    "mm = ModelMatrix(ModelFrame(Z ~ X*Y, df))"
   ]
  },
  {
   "cell_type": "markdown",
   "metadata": {},
   "source": [
    "## Pooling Data: Representing Factors"
   ]
  },
  {
   "cell_type": "code",
   "execution_count": 48,
   "metadata": {
    "collapsed": false
   },
   "outputs": [
    {
     "data": {
      "text/plain": [
       "6-element DataArray{ASCIIString,1}:\n",
       " \"Group A\"\n",
       " \"Group A\"\n",
       " \"Group A\"\n",
       " \"Group B\"\n",
       " \"Group B\"\n",
       " \"Group B\""
      ]
     },
     "execution_count": 48,
     "metadata": {},
     "output_type": "execute_result"
    }
   ],
   "source": [
    "dv = @data([\"Group A\", \"Group A\", \"Group A\",\n",
    "            \"Group B\", \"Group B\", \"Group B\"])"
   ]
  },
  {
   "cell_type": "code",
   "execution_count": 49,
   "metadata": {
    "collapsed": false
   },
   "outputs": [
    {
     "data": {
      "text/plain": [
       "6-element PooledDataArray{ASCIIString,Uint32,1}:\n",
       " \"Group A\"\n",
       " \"Group A\"\n",
       " \"Group A\"\n",
       " \"Group B\"\n",
       " \"Group B\"\n",
       " \"Group B\""
      ]
     },
     "execution_count": 49,
     "metadata": {},
     "output_type": "execute_result"
    }
   ],
   "source": [
    "pdv = @pdata([\"Group A\", \"Group A\", \"Group A\",\n",
    "              \"Group B\", \"Group B\", \"Group B\"])"
   ]
  },
  {
   "cell_type": "code",
   "execution_count": 51,
   "metadata": {
    "collapsed": false
   },
   "outputs": [
    {
     "data": {
      "text/plain": [
       "2-element Array{ASCIIString,1}:\n",
       " \"Group A\"\n",
       " \"Group B\""
      ]
     },
     "execution_count": 51,
     "metadata": {},
     "output_type": "execute_result"
    }
   ],
   "source": [
    "levels(pdv)"
   ]
  },
  {
   "cell_type": "code",
   "execution_count": 53,
   "metadata": {
    "collapsed": true
   },
   "outputs": [],
   "source": [
    "df = DataFrame(A = [1, 1, 1, 2, 2, 2],\n",
    "               B = [\"X\", \"X\", \"X\", \"Y\", \"Y\", \"Y\"])\n",
    "pool!(df, [:A, :B])"
   ]
  },
  {
   "cell_type": "code",
   "execution_count": null,
   "metadata": {
    "collapsed": true
   },
   "outputs": [],
   "source": []
  }
 ],
 "metadata": {
  "kernelspec": {
   "display_name": "Julia 0.3.7",
   "language": "julia",
   "name": "julia 0.3"
  },
  "language_info": {
   "name": "julia",
   "version": "0.3.7"
  }
 },
 "nbformat": 4,
 "nbformat_minor": 0
}
