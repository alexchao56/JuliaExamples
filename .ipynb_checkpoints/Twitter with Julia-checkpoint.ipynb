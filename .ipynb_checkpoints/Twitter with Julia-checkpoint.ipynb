{
 "cells": [
  {
   "cell_type": "code",
   "execution_count": 1,
   "metadata": {
    "collapsed": true
   },
   "outputs": [],
   "source": [
    "using Twitter"
   ]
  },
  {
   "cell_type": "markdown",
   "metadata": {},
   "source": [
    "##Parsing configuration files"
   ]
  },
  {
   "cell_type": "code",
   "execution_count": 6,
   "metadata": {
    "collapsed": true
   },
   "outputs": [],
   "source": [
    "using ConfParser"
   ]
  },
  {
   "cell_type": "code",
   "execution_count": 11,
   "metadata": {
    "collapsed": true
   },
   "outputs": [],
   "source": [
    "conf = ConfParse(\"confs/config.ini\")\n",
    "parse_conf!(conf)"
   ]
  },
  {
   "cell_type": "code",
   "execution_count": 13,
   "metadata": {
    "collapsed": false
   },
   "outputs": [
    {
     "ename": "LoadError",
     "evalue": "key not found: \"apikey\"\nwhile loading In[13], in expression starting on line 2",
     "output_type": "error",
     "traceback": [
      "key not found: \"apikey\"\nwhile loading In[13], in expression starting on line 2",
      "",
      " in getindex at dict.jl:617",
      " in retrieve at /Users/pbio/.julia/v0.3/ConfParser/src/ConfParser.jl:387"
     ]
    }
   ],
   "source": [
    "#get and store config parameters\n",
    "apikey = retrieve(conf, \"Twitter\", \"apikey\")\n",
    "apisecret = retrieve(conf, \"Twitter\", \"apisecret\")\n",
    "accesstoken = retrieve(conf, \"Twitter\", \"accesstoken\")\n",
    "accesstokensecret = retrieve(conf, \"Twitter\",\"accesstokensecret\")\n",
    "twitterauth(apikey, apisecret, accesstoken, accesstokensecret)"
   ]
  },
  {
   "cell_type": "code",
   "execution_count": 3,
   "metadata": {
    "collapsed": false
   },
   "outputs": [
    {
     "data": {
      "text/plain": [
       "Response(401 Unauthorized, 16 Headers, 64 Bytes in Body)"
      ]
     },
     "execution_count": 3,
     "metadata": {},
     "output_type": "execute_result"
    }
   ],
   "source": [
    "julia_tweets = get_search_tweets(\"#julialang\")"
   ]
  },
  {
   "cell_type": "code",
   "execution_count": 4,
   "metadata": {
    "collapsed": false
   },
   "outputs": [
    {
     "name": "stdout",
     "output_type": "stream",
     "text": [
      "Response(401 Unauthorized, 16 Headers, 64 Bytes in Body)\n"
     ]
    }
   ],
   "source": [
    "println(julia_tweets)"
   ]
  },
  {
   "cell_type": "code",
   "execution_count": null,
   "metadata": {
    "collapsed": true
   },
   "outputs": [],
   "source": []
  }
 ],
 "metadata": {
  "kernelspec": {
   "display_name": "Julia 0.3.7",
   "language": "julia",
   "name": "julia 0.3"
  },
  "language_info": {
   "name": "julia",
   "version": "0.3.7"
  }
 },
 "nbformat": 4,
 "nbformat_minor": 0
}
